{
  "nbformat": 4,
  "nbformat_minor": 0,
  "metadata": {
    "colab": {
      "provenance": []
    },
    "kernelspec": {
      "name": "python3",
      "display_name": "Python 3"
    },
    "language_info": {
      "name": "python"
    }
  },
  "cells": [
    {
      "cell_type": "markdown",
      "source": [
        "# Theory questions"
      ],
      "metadata": {
        "id": "xtSLDH46uZwV"
      }
    },
    {
      "cell_type": "markdown",
      "source": [
        "1. What is a RESTful API?\n",
        "=> A RESTful API is an API that follows the principles of REST (Representational State Transfer), using standard HTTP methods (GET, POST, PUT, DELETE) to perform operations on resources identified by URLs."
      ],
      "metadata": {
        "id": "IAb7RD7uuhr4"
      }
    },
    {
      "cell_type": "markdown",
      "source": [
        "2. Explain the concept of API specification.\n",
        "=> An API specification defines how clients should interact with an API, including endpoints, request methods, parameters, request/response formats, and authentication methods."
      ],
      "metadata": {
        "id": "ZmrtOk8lvob1"
      }
    },
    {
      "cell_type": "markdown",
      "source": [
        "3. What is Flask, and why is it popular for building APIs?\n",
        "=> Flask is a lightweight Python web framework that is popular for building APIs due to its simplicity, flexibility, and minimal setup requirements."
      ],
      "metadata": {
        "id": "C9T3-7Yiv9bi"
      }
    },
    {
      "cell_type": "markdown",
      "source": [
        "4. What is routing in Flask?\n",
        "=> Routing in Flask is the process of mapping URLs to functions (views) that handle requests for those URLs using the @app.route() decorator."
      ],
      "metadata": {
        "id": "dkFRAjCdwQ0f"
      }
    },
    {
      "cell_type": "markdown",
      "source": [
        "5.  How do you create a simple Flask application?\n",
        "=>\n",
        "from flask import Flask\n",
        "  \n",
        "  app = Flask(__name__)\n",
        "\n",
        "  @app.route('/')\n",
        "  \n",
        "  def home():\n",
        "    \n",
        "    return \"Hello, Flask!\"\n",
        "\n",
        "  if __name__ == \"__main__\":\n",
        "    \n",
        "    app.run(debug=True)"
      ],
      "metadata": {
        "id": "9EUWRPDIwbNH"
      }
    },
    {
      "cell_type": "markdown",
      "source": [
        "6. What are HTTP methods used in RESTful APIs?\n",
        "\n",
        " =>GET – Retrieve data\n",
        "\n",
        "  POST – Create new data\n",
        "\n",
        "  PUT/PATCH – Update data\n",
        "\n",
        "  DELETE – Remove data"
      ],
      "metadata": {
        "id": "UoLw23xUxP8l"
      }
    },
    {
      "cell_type": "markdown",
      "source": [
        "7. What is the purpose of the @app.route() decorator in Flask?\n",
        "\n",
        "=> It defines a URL endpoint and binds it to a Python function that will handle requests to that endpoint."
      ],
      "metadata": {
        "id": "eeVz-7NAxnoj"
      }
    },
    {
      "cell_type": "markdown",
      "source": [
        "8. What is the difference between GET and POST HTTP methods?\n",
        "\n",
        "=> GET: Retrieves data; parameters are sent in the URL.\n",
        "\n",
        "POST: Sends data to the server to create or modify resources; data is in the request body."
      ],
      "metadata": {
        "id": "rYBm1u83x5lk"
      }
    },
    {
      "cell_type": "markdown",
      "source": [
        "9.  How do you handle errors in Flask APIs?\n"
      ],
      "metadata": {
        "id": "j57cUQwv3uB0"
      }
    },
    {
      "cell_type": "markdown",
      "source": [
        "10. How do you connect Flask to a SQL database?\n",
        "=> Use an ORM like SQLAlchemy or Flask-SQLAlchemy, or connect directly using a database driver (e.g., sqlite3, pymysql)."
      ],
      "metadata": {
        "id": "Kmd-EOK34kCj"
      }
    },
    {
      "cell_type": "markdown",
      "source": [
        "11. What is the role of Flask-SQLAlchemy?\n",
        "=> Flask-SQLAlchemy is an ORM that simplifies database operations by representing tables as Python classes."
      ],
      "metadata": {
        "id": "PMnbPyKX4yNW"
      }
    },
    {
      "cell_type": "markdown",
      "source": [
        "12. What are Flask blueprints, and how are they useful?\n",
        "=> Blueprints allow you to structure a Flask application into reusable, modular components for better organization of routes and views."
      ],
      "metadata": {
        "id": "bvler6fD49kN"
      }
    },
    {
      "cell_type": "markdown",
      "source": [
        "13. What is the purpose of Flask's request object?\n",
        "=> The request object stores incoming HTTP request data such as form data, JSON body, headers, and query parameters."
      ],
      "metadata": {
        "id": "qJWtHxHc5GGk"
      }
    },
    {
      "cell_type": "markdown",
      "source": [
        "14. How do you create a RESTful API endpoint using Flask?\n",
        "\n",
        "=> from flask import Flask, jsonify\n",
        "\n",
        "app = Flask(__name__)\n",
        "\n",
        "@app.route('/data', methods=['GET'])\n",
        "\n",
        "def get_data():\n",
        "    \n",
        "    return jsonify({\"message\": \"Hello API!\"})"
      ],
      "metadata": {
        "id": "FDNZBXLr5S9C"
      }
    },
    {
      "cell_type": "markdown",
      "source": [
        "15. How do you create a RESTful API endpoint using Flask?\n",
        "=> jsonify() converts Python dictionaries/lists into JSON responses with appropriate headers."
      ],
      "metadata": {
        "id": "-VAqB5-k5xLQ"
      }
    },
    {
      "cell_type": "markdown",
      "source": [
        "16. Explain Flask’s url_for() function.\n",
        "=> url_for() generates URLs dynamically for a given function name, useful for avoiding hard-coded paths."
      ],
      "metadata": {
        "id": "yaQwpwTbAVti"
      }
    },
    {
      "cell_type": "markdown",
      "source": [
        "17. How does Flask handle static files (CSS, JavaScript, etc.)?\n",
        "=> Static files are stored in a folder named static/. Flask automatically serves files from there using /static/<filename>."
      ],
      "metadata": {
        "id": "lB_uMCyDApzP"
      }
    },
    {
      "cell_type": "markdown",
      "source": [
        "18. What is an API specification, and how does it help in building a Flask API?\n",
        "=> An API specification defines endpoints, request types, and responses. It helps standardize API design, making integration easier."
      ],
      "metadata": {
        "id": "IEvHXFHOA83Y"
      }
    },
    {
      "cell_type": "markdown",
      "source": [
        "19. What are HTTP status codes, and why are they important in a Flask API?\n",
        "=> HTTP status codes indicate the result of an API request (e.g., 200 OK, 404 Not Found, 500 Internal Server Error) and guide clients on handling responses."
      ],
      "metadata": {
        "id": "ycYdzBv3BF8Z"
      }
    },
    {
      "cell_type": "markdown",
      "source": [
        "20. How do you handle POST requests in Flask?\n",
        "\n",
        "=> from flask import request\n",
        "\n",
        "@app.route('/submit', methods=['POST'])\n",
        "\n",
        "def submit():\n",
        "    \n",
        "    data = request.json\n",
        "    \n",
        "    return jsonify({\"received\": data})"
      ],
      "metadata": {
        "id": "3uabcy5YBSl0"
      }
    },
    {
      "cell_type": "markdown",
      "source": [
        "21. How would you secure a Flask API?\n",
        "\n",
        "=> Use authentication (JWT, OAuth)\n",
        "\n",
        "Enable HTTPS\n",
        "\n",
        "Validate inputs to prevent SQL injection and XSS\n",
        "\n",
        "Use Flask extensions like Flask-JWT or Flask-Login."
      ],
      "metadata": {
        "id": "V45TdlQNBrdE"
      }
    },
    {
      "cell_type": "markdown",
      "source": [
        "22. What is the significance of the Flask-RESTful extension?\n",
        "=> Flask-RESTful simplifies the creation of REST APIs by providing classes for resources, request parsing, and standardized error handling."
      ],
      "metadata": {
        "id": "BZ14TGEvB9OW"
      }
    },
    {
      "cell_type": "markdown",
      "source": [
        "23. What is the role of Flask’s session object?\n",
        "=> The session object stores data across requests for a user using secure cookies.\n",
        "\n"
      ],
      "metadata": {
        "id": "HSHb6tldCJtH"
      }
    },
    {
      "cell_type": "markdown",
      "source": [
        "# practical questions"
      ],
      "metadata": {
        "id": "mfvDo_LWCarG"
      }
    },
    {
      "cell_type": "markdown",
      "source": [
        "1. How do you create a basic Flask application?\n"
      ],
      "metadata": {
        "id": "x79gc4sJCg_R"
      }
    },
    {
      "cell_type": "code",
      "source": [
        "from flask import Flask\n",
        "\n",
        "app = Flask(__name__)\n",
        "\n",
        "@app.route('/')\n",
        "def index():\n",
        "    return \"Hello, Flask!\"\n",
        "\n",
        "if __name__ == '__main__':\n",
        "    app.run(debug=True)"
      ],
      "metadata": {
        "id": "TVd1qX1iCohG"
      },
      "execution_count": null,
      "outputs": []
    },
    {
      "cell_type": "markdown",
      "source": [
        "2. How do you serve static files like images or CSS in Flask?"
      ],
      "metadata": {
        "id": "LRnWuYphOJDc"
      }
    },
    {
      "cell_type": "code",
      "source": [],
      "metadata": {
        "id": "2HRf_NoNObX5"
      },
      "execution_count": null,
      "outputs": []
    },
    {
      "cell_type": "markdown",
      "source": [
        "3. How do you define different routes with different HTTP methods in Flask?"
      ],
      "metadata": {
        "id": "srHzfMrZOlXR"
      }
    },
    {
      "cell_type": "code",
      "source": [
        "from flask import request\n",
        "\n",
        "@app.route('/submit', methods=['GET', 'POST'])\n",
        "def submit():\n",
        "    if request.method == 'POST':\n",
        "        return \"Posted!\"\n",
        "    return \"GET form\""
      ],
      "metadata": {
        "id": "uM1BVFBmOGCS"
      },
      "execution_count": null,
      "outputs": []
    },
    {
      "cell_type": "markdown",
      "source": [
        "4. How do you render HTML templates in Flask?"
      ],
      "metadata": {
        "id": "Y58GSVkDOFno"
      }
    },
    {
      "cell_type": "code",
      "source": [
        "from flask import render_template\n",
        "\n",
        "@app.route('/')\n",
        "def home():\n",
        "    return render_template('home.html', name=\"Alice\")"
      ],
      "metadata": {
        "id": "0wI8fLvnPpfZ"
      },
      "execution_count": null,
      "outputs": []
    },
    {
      "cell_type": "markdown",
      "source": [
        "5.  How can you generate URLs for routes in Flask using url_for?"
      ],
      "metadata": {
        "id": "OWUi87oIPt3W"
      }
    },
    {
      "cell_type": "code",
      "source": [
        "from flask import url_for\n",
        "\n",
        "# Inside Python\n",
        "print(url_for('home'))  # resolves function name\n",
        "\n",
        "# In template:\n",
        "<a href=\"{{ url_for('home') }}\">Home</a>"
      ],
      "metadata": {
        "id": "Z4A7jo8ZPzX9"
      },
      "execution_count": null,
      "outputs": []
    },
    {
      "cell_type": "markdown",
      "source": [
        "6.  How do you handle forms in Flask?\n"
      ],
      "metadata": {
        "id": "_adJkAQxP3iZ"
      }
    },
    {
      "cell_type": "code",
      "source": [
        "from flask import request\n",
        "\n",
        "@app.route('/login', methods=['POST'])\n",
        "def login():\n",
        "    username = request.form.get('username')\n",
        "    password = request.form.get('password')\n",
        "    return f\"Received {username}\"\n"
      ],
      "metadata": {
        "id": "F02il0hmQGom"
      },
      "execution_count": null,
      "outputs": []
    },
    {
      "cell_type": "markdown",
      "source": [
        "7. How can you validate form data in Flask?"
      ],
      "metadata": {
        "id": "d5L417NwQnHX"
      }
    },
    {
      "cell_type": "code",
      "source": [
        "from flask_wtf import FlaskForm\n",
        "from wtforms import StringField\n",
        "from wtforms.validators import DataRequired\n",
        "\n",
        "class MyForm(FlaskForm):\n",
        "    name = StringField('Name', validators=[DataRequired()])\n",
        "\n",
        "@app.route('/submit', methods=['GET', 'POST'])\n",
        "def submit():\n",
        "    form = MyForm()\n",
        "    if form.validate_on_submit():\n",
        "        return \"Valid!\"\n",
        "    return render_template('form.html', form=form)"
      ],
      "metadata": {
        "id": "71W_rmqjQ8vR"
      },
      "execution_count": null,
      "outputs": []
    },
    {
      "cell_type": "markdown",
      "source": [
        "8.  How do you manage sessions in Flask?\n"
      ],
      "metadata": {
        "id": "We_ndi8GREyJ"
      }
    },
    {
      "cell_type": "code",
      "source": [
        "from flask import session\n",
        "\n",
        "app.secret_key = 'replace-with-secure-random'\n",
        "\n",
        "@app.route('/set/')\n",
        "def set_session():\n",
        "    session['user'] = 'alice'\n",
        "    return \"Session set\"\n",
        "\n",
        "@app.route('/get/')\n",
        "def get_session():\n",
        "    return session.get('user', 'not logged in')"
      ],
      "metadata": {
        "id": "XRl-nEzMRVgR"
      },
      "execution_count": null,
      "outputs": []
    },
    {
      "cell_type": "markdown",
      "source": [
        "9. How do you redirect to a different route in Flask?"
      ],
      "metadata": {
        "id": "ZaDjToHRRW3y"
      }
    },
    {
      "cell_type": "code",
      "source": [
        "from flask import redirect, url_for\n",
        "\n",
        "@app.route('/go-home')\n",
        "def go_home():\n",
        "    return redirect(url_for('home'))"
      ],
      "metadata": {
        "id": "pEKxnMhfRcd3"
      },
      "execution_count": null,
      "outputs": []
    },
    {
      "cell_type": "markdown",
      "source": [
        "10. How do you handle errors in Flask (e.g., 404)?"
      ],
      "metadata": {
        "id": "9kLP-N53RpkM"
      }
    },
    {
      "cell_type": "code",
      "source": [
        "from flask import render_template\n",
        "\n",
        "@app.errorhandler(404)\n",
        "def not_found(e):\n",
        "    return render_template('404.html'), 404"
      ],
      "metadata": {
        "id": "0zVWNGf-SwyA"
      },
      "execution_count": null,
      "outputs": []
    },
    {
      "cell_type": "markdown",
      "source": [
        "11. How do you structure a Flask app using Blueprints?"
      ],
      "metadata": {
        "id": "mFq4BijAS-r4"
      }
    },
    {
      "cell_type": "code",
      "source": [
        "from flask import Blueprint\n",
        "\n",
        "users_bp = Blueprint('users', __name__, url_prefix='/users')\n",
        "\n",
        "@users_bp.route('/')\n",
        "def list_users():\n",
        "    return \"Users list\""
      ],
      "metadata": {
        "id": "AQbFt6hKTcoZ"
      },
      "execution_count": null,
      "outputs": []
    },
    {
      "cell_type": "markdown",
      "source": [
        "12. How do you define a custom Jinja filter in Flask?"
      ],
      "metadata": {
        "id": "YjE3bmOaTtEz"
      }
    },
    {
      "cell_type": "code",
      "source": [
        "@app.template_filter('reverse')\n",
        "def reverse_filter(s):\n",
        "    return s[::-1]"
      ],
      "metadata": {
        "id": "LB0GGPx6TsV6"
      },
      "execution_count": null,
      "outputs": []
    },
    {
      "cell_type": "markdown",
      "source": [
        "13. How can you redirect with query parameters in Flask4\n"
      ],
      "metadata": {
        "id": "sRHgDN-nUKFY"
      }
    },
    {
      "cell_type": "code",
      "source": [
        "from flask import redirect, url_for\n",
        "\n",
        "@app.route('/search')\n",
        "def search():\n",
        "    return redirect(url_for('results', q='flask', page=2))\n",
        "\n",
        "@app.route('/results')\n",
        "def results():\n",
        "    from flask import request\n",
        "    q = request.args.get('q')\n",
        "    page = request.args.get('page')\n",
        "    return f\"Query: {q}, page: {page}\"\n"
      ],
      "metadata": {
        "id": "cwP6z_2-UYEw"
      },
      "execution_count": null,
      "outputs": []
    },
    {
      "cell_type": "markdown",
      "source": [
        "14.  How do you return JSON responses in Flask?\n"
      ],
      "metadata": {
        "id": "I5pcLjESUdPR"
      }
    },
    {
      "cell_type": "code",
      "source": [
        "from flask import jsonify\n",
        "\n",
        "@app.route('/api/data')\n",
        "def api_data():\n",
        "    return jsonify({'status': 'ok', 'items': [1, 2, 3]})"
      ],
      "metadata": {
        "id": "RmxRWhMrUkFQ"
      },
      "execution_count": null,
      "outputs": []
    },
    {
      "cell_type": "markdown",
      "source": [
        "15. How do you capture URL parameters in Flask?"
      ],
      "metadata": {
        "id": "TxX4ezZqUomH"
      }
    },
    {
      "cell_type": "code",
      "source": [
        "@app.route('/user/<username>')\n",
        "def profile(username):\n",
        "    return f\"Profile of {username}\"\n",
        "\n",
        "@app.route('/post/<int:post_id>')\n",
        "def post(post_id):\n",
        "    return f\"Post #{post_id}\""
      ],
      "metadata": {
        "id": "NKe8WKqnUb1J"
      },
      "execution_count": null,
      "outputs": []
    }
  ]
}