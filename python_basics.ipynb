{
  "nbformat": 4,
  "nbformat_minor": 0,
  "metadata": {
    "colab": {
      "provenance": [],
      "toc_visible": true
    },
    "kernelspec": {
      "name": "python3",
      "display_name": "Python 3"
    },
    "language_info": {
      "name": "python"
    }
  },
  "cells": [
    {
      "cell_type": "markdown",
      "source": [
        "#python basics theory questions\n"
      ],
      "metadata": {
        "id": "wqcWztHqUZPC"
      }
    },
    {
      "cell_type": "markdown",
      "source": [
        "1. What is Python, and why is it popular\n",
        "  ->python is a programming language which is formal language for creating      instructions for a computer to follow it.\n",
        "  python is popular because it is easy in learning, its versality nature(used in web dev,ML,data analysis), have a lot of libraries and have huge active community."
      ],
      "metadata": {
        "id": "UKp6p40PPWfc"
      }
    },
    {
      "cell_type": "markdown",
      "source": [
        "2. What is an interpreter in Python\n",
        "  ->In Python, an interpreter is a program that reads code one line at a time,translate it to machine instruction and execute it."
      ],
      "metadata": {
        "id": "AvCYPycQTsAc"
      }
    },
    {
      "cell_type": "markdown",
      "source": [
        "3. What are pre-defined keywords in Python\n",
        "  -> Python have predefined keywords that hold a special meaning and have specific purpose. For example, if, else, elif, break, continue, for, while etc."
      ],
      "metadata": {
        "id": "kezdDVIXXARd"
      }
    },
    {
      "cell_type": "markdown",
      "source": [
        "4. Can keywords be used as variable names\n",
        "  -> No keywords can not be used as variable names in python, because keywords have special meaning in language's syntax, using them as variable would confuse the interpreter."
      ],
      "metadata": {
        "id": "3H1xNZHzY7Rp"
      }
    },
    {
      "cell_type": "markdown",
      "source": [
        "5. What is mutability in Python\n",
        "  -> Mutability refers to whether an object can be changed after is is created. objects whose state or value can be changed after they are created are\n",
        "  called as mutable objects."
      ],
      "metadata": {
        "id": "qg96YNZeczQ0"
      }
    },
    {
      "cell_type": "markdown",
      "source": [
        "6. Why are lists mutable, but tuples are immutable\n",
        "  -> Lists are mutable because it support item assignment and tuples are immutable becuase it does not support item assignment."
      ],
      "metadata": {
        "id": "-l1koLqynBcB"
      }
    },
    {
      "cell_type": "markdown",
      "source": [
        "7. What is the difference between “==” and “is” operators in Python  \n",
        "  -> equal to ('==') is comparison operator, checks if two variables have the same value, whereas \"is\" is a identity operator, checks if two variables point to the same object in memory."
      ],
      "metadata": {
        "id": "-Ud8tgIboSq5"
      }
    },
    {
      "cell_type": "markdown",
      "source": [
        "8. What are logical operators in Python\n",
        "  -> Logical operators are used to combine boolean expressions and return a boolean value (True or False). logical and, logical or, logical not are there.\n",
        "  for example logical and returns true if both conditions are true."
      ],
      "metadata": {
        "id": "rY0-zMF4sxF5"
      }
    },
    {
      "cell_type": "markdown",
      "source": [
        "9. What is type casting in Python\n",
        "  -> The preocess of changing the data type of a value/object is called type casting. We do it because while executing/computation using operators, there can be mismatch between the datatype. For example string to integer."
      ],
      "metadata": {
        "id": "blbcpuaMvti2"
      }
    },
    {
      "cell_type": "markdown",
      "source": [
        "10. What is the difference between implicit and explicit type casting\n",
        "  -> In implicit typecasting python understand the datatype, done automatically where as in explicit typecasting convert data type using inbuilt functions like str, int etc."
      ],
      "metadata": {
        "id": "t4J85j2HxG_F"
      }
    },
    {
      "cell_type": "markdown",
      "source": [
        "11. What is the purpose of conditional statements in Python\n",
        "  -> The purpose of conditional statement is to helps to code decisions based on some preconditions."
      ],
      "metadata": {
        "id": "XL4Z7jdY2YjO"
      }
    },
    {
      "cell_type": "markdown",
      "source": [
        "12.  How does the elif statement work\n",
        "  -> The elif statement is used to check multiple conditions. Python starts from the top and checks if. If if is True, it runs that block and skips the rest. If if is False, it checks the first elif. If any elif is True, it runs that block and skips the rest. If none are True, and there's an else, it runs that.\n",
        "\n"
      ],
      "metadata": {
        "id": "OdWDORUL3_v7"
      }
    },
    {
      "cell_type": "markdown",
      "source": [
        "13. What is the difference between for and while loops\n",
        "  -> For loop used when iterate over a sequence of elements like strings, list where as while loop used when repeatedly executed a block of code until a condition is met.\n",
        "  \n",
        "  "
      ],
      "metadata": {
        "id": "_w8pXy1d7bxx"
      }
    },
    {
      "cell_type": "markdown",
      "source": [
        "14. Describe a scenario where a while loop is more suitable than a for loop.\n",
        "  -> While loop used when don't know how many times loop should run, useful than for loop in such type of cases when we are waiting for some condition to become true. For example, when correct password needed to open something, programme asking every time until correct password is entered."
      ],
      "metadata": {
        "id": "wokT03xO9pvp"
      }
    },
    {
      "cell_type": "markdown",
      "source": [
        "#practical questions\n"
      ],
      "metadata": {
        "id": "pOZ2uUfHCc_H"
      }
    },
    {
      "cell_type": "markdown",
      "source": [
        "1. Write a Python program to print \"Hello, World!\"\n"
      ],
      "metadata": {
        "id": "LNnk-9-oCqTr"
      }
    },
    {
      "cell_type": "code",
      "execution_count": null,
      "metadata": {
        "id": "rKM6blEHxzpU",
        "colab": {
          "base_uri": "https://localhost:8080/"
        },
        "outputId": "99c413f8-b273-41aa-f5c5-475628da199e"
      },
      "outputs": [
        {
          "output_type": "stream",
          "name": "stdout",
          "text": [
            "Hello, World!\n"
          ]
        }
      ],
      "source": [
        "print(\"Hello, World!\")"
      ]
    },
    {
      "cell_type": "markdown",
      "source": [
        "2. Write a Python program that displays your name and age"
      ],
      "metadata": {
        "id": "vr5koJyHPK5P"
      }
    },
    {
      "cell_type": "code",
      "source": [
        "name=\"Aayush Gupta\"\n",
        "age=\"21\"\n",
        "print(\"name->\",name)\n",
        "print(\"age->\",age)"
      ],
      "metadata": {
        "colab": {
          "base_uri": "https://localhost:8080/"
        },
        "id": "z1olwTd4EvVr",
        "outputId": "05394192-bcd4-4fa9-cc16-b28f71f8169c"
      },
      "execution_count": null,
      "outputs": [
        {
          "output_type": "stream",
          "name": "stdout",
          "text": [
            "name-> Aayush Gupta\n",
            "age-> 21\n"
          ]
        }
      ]
    },
    {
      "cell_type": "markdown",
      "source": [
        "3. Write code to print all the pre-defined keywords in Python using the keyword library"
      ],
      "metadata": {
        "id": "DBKTjrn1HX7i"
      }
    },
    {
      "cell_type": "code",
      "source": [
        "import keyword\n",
        "keyword_list=keyword.kwlist\n",
        "print(\"keyword list\",keyword_list)"
      ],
      "metadata": {
        "colab": {
          "base_uri": "https://localhost:8080/"
        },
        "id": "vqf6IrgHIW_9",
        "outputId": "f8c715a7-c40d-492e-d424-dba9930418c1"
      },
      "execution_count": null,
      "outputs": [
        {
          "output_type": "stream",
          "name": "stdout",
          "text": [
            "keyword list ['False', 'None', 'True', 'and', 'as', 'assert', 'async', 'await', 'break', 'class', 'continue', 'def', 'del', 'elif', 'else', 'except', 'finally', 'for', 'from', 'global', 'if', 'import', 'in', 'is', 'lambda', 'nonlocal', 'not', 'or', 'pass', 'raise', 'return', 'try', 'while', 'with', 'yield']\n"
          ]
        }
      ]
    },
    {
      "cell_type": "markdown",
      "source": [
        "4. Write a program that checks if a given word is a Python keyword."
      ],
      "metadata": {
        "id": "OFk70xKmJ_u6"
      }
    },
    {
      "cell_type": "code",
      "source": [
        "\n",
        "word=input(\"given word:\")\n",
        "if word in keyword_list:\n",
        "  print(\"given word is python keyword\")\n",
        "else:\n",
        "  print(\"given word is not python keyword\")"
      ],
      "metadata": {
        "id": "kHnsq-L_KI_9",
        "colab": {
          "base_uri": "https://localhost:8080/"
        },
        "outputId": "b17f3bf3-181b-44c5-f010-fa6abf55aee6"
      },
      "execution_count": 82,
      "outputs": [
        {
          "output_type": "stream",
          "name": "stdout",
          "text": [
            "given word:True\n",
            "given word is python keyword\n"
          ]
        }
      ]
    },
    {
      "cell_type": "markdown",
      "source": [
        "5.  Create a list and tuple in Python, and demonstrate how attempting to change an element works differently\n",
        "for each."
      ],
      "metadata": {
        "id": "R5GKI9xJL-VB"
      }
    },
    {
      "cell_type": "code",
      "source": [
        "list_fill=[3,6,9,False,\"seenu\",\"golu\"]\n",
        "tuple_fill=(3,6,9,False,\"seenu\",\"golu\")\n",
        "list_fill[1]=8\n",
        "list_fill"
      ],
      "metadata": {
        "id": "IirdaG0iMbzu"
      },
      "execution_count": null,
      "outputs": []
    },
    {
      "cell_type": "code",
      "source": [
        "tuple_fill[1]=8"
      ],
      "metadata": {
        "id": "B0C_OkxnONcL"
      },
      "execution_count": null,
      "outputs": []
    },
    {
      "cell_type": "markdown",
      "source": [
        "6. Write a function to demonstrate the behavior of mutable and immutable arguments."
      ],
      "metadata": {
        "id": "PQce2eaXObs0"
      }
    },
    {
      "cell_type": "code",
      "source": [],
      "metadata": {
        "id": "podnxyuoPYz2"
      },
      "execution_count": null,
      "outputs": []
    },
    {
      "cell_type": "markdown",
      "source": [
        "7. Write a program that performs basic arithmetic operations on two user-input numbers\n"
      ],
      "metadata": {
        "id": "Fi6p0RkERPRN"
      }
    },
    {
      "cell_type": "code",
      "source": [
        "num1=float(input('enter ist number:'))\n",
        "num2=float(input('enter 2nd number:'))\n",
        "add=num1+num2\n",
        "subtract=num1-num2\n",
        "multiply=num1*num2\n",
        "if num2!=0:\n",
        "  division=num1/num2\n",
        "else:\n",
        "  print(\"numnber can't be divide with zero\")\n",
        "add"
      ],
      "metadata": {
        "id": "lUwUcUFeRlor",
        "colab": {
          "base_uri": "https://localhost:8080/"
        },
        "outputId": "4bd08098-2504-4ba4-9544-e7275f43b00d"
      },
      "execution_count": 84,
      "outputs": [
        {
          "name": "stdout",
          "output_type": "stream",
          "text": [
            "enter ist number:6.5\n",
            "enter 2nd number:5.8\n"
          ]
        },
        {
          "output_type": "execute_result",
          "data": {
            "text/plain": [
              "12.3"
            ]
          },
          "metadata": {},
          "execution_count": 84
        }
      ]
    },
    {
      "cell_type": "markdown",
      "source": [
        "8. Write a program to demonstrate the use of logical operators"
      ],
      "metadata": {
        "id": "B_TEIbXdTSxQ"
      }
    },
    {
      "cell_type": "code",
      "source": [
        "a=10\n",
        "b=20\n",
        "c=30\n",
        "if a>b and c>b:\n",
        "  print(\"True\")\n",
        "else: print(\"false\")\n",
        "if a>b or c>b:\n",
        "  print(\"True\")\n",
        "else:\n",
        "  print(\"false\")\n",
        "if not a==10:\n",
        "  print(\"x is not equal to 10\")\n",
        "else:\n",
        "   print(\"x is equal to 10\")"
      ],
      "metadata": {
        "id": "kYn6zaitmKmK",
        "colab": {
          "base_uri": "https://localhost:8080/"
        },
        "outputId": "b9f49df9-c832-4416-fbb1-de53785005fe"
      },
      "execution_count": 85,
      "outputs": [
        {
          "output_type": "stream",
          "name": "stdout",
          "text": [
            "false\n",
            "True\n",
            "x is equal to 10\n"
          ]
        }
      ]
    },
    {
      "cell_type": "markdown",
      "source": [
        "9. Write a Python program to convert user input from string to integer, float, and boolean types."
      ],
      "metadata": {
        "id": "KxXI7hq7qJeq"
      }
    },
    {
      "cell_type": "code",
      "source": [
        "a=input(\"enter a string value:\")\n",
        "int_value = int(a)\n",
        "print(\"Integer:\", int_value)\n",
        "float_value = float(a)\n",
        "print(\"Float:\", float_value)\n",
        "bool_value = bool(a)\n",
        "print(\"boolean:\", bool_value)\n"
      ],
      "metadata": {
        "id": "CbfvYnH_qRft",
        "colab": {
          "base_uri": "https://localhost:8080/"
        },
        "outputId": "d0ca6b0e-1317-4d67-920b-6d5b5833aeea"
      },
      "execution_count": 99,
      "outputs": [
        {
          "output_type": "stream",
          "name": "stdout",
          "text": [
            "enter a string value:6\n",
            "Integer: 6\n",
            "Float: 6.0\n",
            "boolean: True\n"
          ]
        }
      ]
    },
    {
      "cell_type": "markdown",
      "source": [
        "10. Write code to demonstrate type casting with list elements"
      ],
      "metadata": {
        "id": "mcfEeLsVwDDS"
      }
    },
    {
      "cell_type": "code",
      "source": [
        "list_ele=[3,6.5,\"4\",\"ayush\",\"gupta\"]\n",
        "print(int(list_ele[1])) #float to integer\n",
        "print(int(list_ele[2])) #string to integer\n",
        "print(float(list_ele[2])) #string to float\n",
        "print((str(list_ele[0]))+list_ele[3]) #convert int to str for concatenate\n",
        "\n",
        "\n"
      ],
      "metadata": {
        "id": "n7zdAXA3GX3X",
        "colab": {
          "base_uri": "https://localhost:8080/"
        },
        "outputId": "d075a0e5-360c-4ab6-b439-40ced500a7d4"
      },
      "execution_count": 78,
      "outputs": [
        {
          "output_type": "stream",
          "name": "stdout",
          "text": [
            "6\n",
            "4\n",
            "4.0\n",
            "3ayush\n"
          ]
        }
      ]
    },
    {
      "cell_type": "markdown",
      "source": [
        "11. Write a program that checks if a number is positive, negative, or zero.\n"
      ],
      "metadata": {
        "id": "YwjG3-9DLnfc"
      }
    },
    {
      "cell_type": "code",
      "source": [
        "numb=float(input(\"enter a number:\"))\n",
        "if numb>0:\n",
        "  print(\"number is positve\")\n",
        "elif numb<0:\n",
        "  print(\"number is megative\")\n",
        "elif numb==0:\n",
        "  print(\"number is zero\")\n"
      ],
      "metadata": {
        "id": "v35YgE_ILrVI",
        "colab": {
          "base_uri": "https://localhost:8080/"
        },
        "outputId": "a6938eb0-bf8b-4eab-db55-491a9c58253c"
      },
      "execution_count": 76,
      "outputs": [
        {
          "output_type": "stream",
          "name": "stdout",
          "text": [
            "enter a number:5\n",
            "number is positve\n"
          ]
        }
      ]
    },
    {
      "cell_type": "markdown",
      "source": [
        "12. Write a for loop to print numbers from 1 to 10"
      ],
      "metadata": {
        "id": "nbKhWFBkNBAo"
      }
    },
    {
      "cell_type": "code",
      "source": [
        "for i in range(1,11):\n",
        "  print(i,end=\" \")"
      ],
      "metadata": {
        "id": "X9QJgV-CNFB8",
        "colab": {
          "base_uri": "https://localhost:8080/"
        },
        "outputId": "7fe760de-7d63-47c6-ffa8-27998f7ea0ce"
      },
      "execution_count": 75,
      "outputs": [
        {
          "output_type": "stream",
          "name": "stdout",
          "text": [
            "1 2 3 4 5 6 7 8 9 10 "
          ]
        }
      ]
    },
    {
      "cell_type": "markdown",
      "source": [
        "13. Write a Python program to find the sum of all even numbers between 1 and 50."
      ],
      "metadata": {
        "id": "naO2o5LYNo5B"
      }
    },
    {
      "cell_type": "code",
      "source": [
        "sum=0\n",
        "for i in range(1,51):\n",
        "  if i%2==0:\n",
        "    sum=sum+i\n",
        "  else:\n",
        "      i=i+1\n",
        "print(\"sum of all even numbers between 1 and 50 is\",sum)"
      ],
      "metadata": {
        "id": "6-BX2-p8NoR3",
        "colab": {
          "base_uri": "https://localhost:8080/"
        },
        "outputId": "be094b9b-0b98-43b0-edc5-162177e33636"
      },
      "execution_count": 65,
      "outputs": [
        {
          "output_type": "stream",
          "name": "stdout",
          "text": [
            "sum of all even numbers between 1 and 50 is 650\n"
          ]
        }
      ]
    },
    {
      "cell_type": "markdown",
      "source": [
        "14.  Write a program to reverse a string using a while loop."
      ],
      "metadata": {
        "id": "iGMUojpRSp3H"
      }
    },
    {
      "cell_type": "code",
      "source": [
        "original_string=input(\"enter a string:\")\n",
        "reverse_string=\"\"\n",
        "count=len(original_string)-1\n",
        "while count>=0:\n",
        "  reverse_string=reverse_string + original_string[count]\n",
        "  count=count-1\n",
        "print(\"reverse string is\",reverse_string)"
      ],
      "metadata": {
        "id": "ZC9g7udBTB-r",
        "colab": {
          "base_uri": "https://localhost:8080/"
        },
        "outputId": "bb9e66e5-619f-4e56-fcc1-c7e3ec4f3d38"
      },
      "execution_count": 92,
      "outputs": [
        {
          "output_type": "stream",
          "name": "stdout",
          "text": [
            "enter a string:muskan\n",
            "reverse string is naksum\n"
          ]
        }
      ]
    },
    {
      "cell_type": "markdown",
      "source": [
        " 15. Write a Python program to calculate the factorial of a number provided by the user using a while loop"
      ],
      "metadata": {
        "id": "vlVW0CmVVj-J"
      }
    },
    {
      "cell_type": "code",
      "source": [
        "num=int(input(\"enter a number\"))\n",
        "count=1\n",
        "fact=1\n",
        "while count<=num:\n",
        "  fact=fact*count\n",
        "  count=count+1\n",
        "print(\"factorial of number is\",fact)\n"
      ],
      "metadata": {
        "colab": {
          "base_uri": "https://localhost:8080/"
        },
        "id": "hR_BFdFsf7EJ",
        "outputId": "d388c7b7-ddd0-4e1b-d0f2-ac2ac0a956d9"
      },
      "execution_count": 73,
      "outputs": [
        {
          "output_type": "stream",
          "name": "stdout",
          "text": [
            "enter a number5\n",
            "factorial of number is 120\n"
          ]
        }
      ]
    }
  ]
}