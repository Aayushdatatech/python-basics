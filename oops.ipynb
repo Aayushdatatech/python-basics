{
  "nbformat": 4,
  "nbformat_minor": 0,
  "metadata": {
    "colab": {
      "provenance": []
    },
    "kernelspec": {
      "name": "python3",
      "display_name": "Python 3"
    },
    "language_info": {
      "name": "python"
    }
  },
  "cells": [
    {
      "cell_type": "markdown",
      "source": [
        "#oops theory questions"
      ],
      "metadata": {
        "id": "PhjR6Tule77B"
      }
    },
    {
      "cell_type": "markdown",
      "source": [
        "1. What is Object-Oriented Programming (OOP)?\n",
        "\n",
        "=> Object-Oriented Programming (OOP) is a programming paradigm based on the concept of \"objects\", which can contain data and code. The data is stored in fields (often called attributes), and the code is organized into procedures (often called methods)."
      ],
      "metadata": {
        "id": "pphndh3efEi2"
      }
    },
    {
      "cell_type": "markdown",
      "source": [
        "2. What is a class in OOP?\n",
        "\n",
        "=> A blueprint for creating objects. It defines attributes and methods common to all objects of that type."
      ],
      "metadata": {
        "id": "QYYcR9MYhCAb"
      }
    },
    {
      "cell_type": "markdown",
      "source": [
        "3. What is an object in OOP?\n",
        "\n",
        "=> An instance of a class. It contains actual data and can use the methods defined in the class."
      ],
      "metadata": {
        "id": "FG9pft-qhgQj"
      }
    },
    {
      "cell_type": "markdown",
      "source": [
        "4. What is the difference between abstraction and encapsulation?\n",
        "\n",
        "=> Abstraction:- Hides complex implementation details and shows only the essential features of the object.\n",
        "Helps reduce complexity and increase efficiency.\n",
        "\n",
        "Encapsulation:- Bundling data (attributes) and methods that operate on the data into one unit (the class).\n",
        "\n"
      ],
      "metadata": {
        "id": "A0zOATWAiSG0"
      }
    },
    {
      "cell_type": "markdown",
      "source": [
        "5. What are dunder methods in Python?\n",
        "\n",
        "=> Dunder methods (double underscore  methods) in Python are special methods with names that begin and end with double underscores, like __init__, __str__, or __len__.\n",
        "\n",
        "They’re also called magic methods, and they enable you to define how your objects behave with built-in Python operations (like printing, adding, or comparing).\n",
        "\n"
      ],
      "metadata": {
        "id": "1Y9e_uGkkjl-"
      }
    },
    {
      "cell_type": "markdown",
      "source": [
        "6.  Explain the concept of inheritance in OOP?\n",
        "\n",
        "=> Inheritance in Object-Oriented Programming (OOP) is the mechanism by which one class (called a child or subclass) can inherit attributes and methods from another class (called a parent or superclass). It allows you to reuse existing code.\n",
        "\n"
      ],
      "metadata": {
        "id": "XFEjgD-7lc4R"
      }
    },
    {
      "cell_type": "markdown",
      "source": [
        "7.  What is polymorphism in OOP?\n",
        "\n",
        "=> Poly means many and morphism means forms/states. It refers to an object taking several forms depending on the methods/data.\n",
        "\n",
        "Two main types:\n",
        "\n",
        "Method Overriding (in subclass)\n",
        "\n",
        "Method Overloading (same method name with different parameters)\n",
        "\n",
        "Polymorphism in Object-Oriented Programming (OOP) is the ability of different classes to respond to the same method call in different ways."
      ],
      "metadata": {
        "id": "mbCMU91t3xwg"
      }
    },
    {
      "cell_type": "markdown",
      "source": [
        "8. How is encapsulation achieved in Python?\n",
        "\n",
        "=> Encapsulation in Python is the practice of hiding the internal state of an object and restricting direct access to it. This helps protect an object’s data and enforces a clean interface for interacting with it."
      ],
      "metadata": {
        "id": "d2rfogXH5tn6"
      }
    },
    {
      "cell_type": "markdown",
      "source": [
        "9. What is a constructor in Python?\n",
        "\n",
        "=>  The __init __ method in a class is a constructor that initializes object attributes when an object is created."
      ],
      "metadata": {
        "id": "NLm4386l7qM_"
      }
    },
    {
      "cell_type": "code",
      "source": [],
      "metadata": {
        "id": "9G35vN1s7yta"
      },
      "execution_count": null,
      "outputs": []
    },
    {
      "cell_type": "markdown",
      "source": [
        "10. What are class and static methods in Python?\n",
        "\n",
        "=> @classmethod: Takes cls as the first argument and can modify class state.\n",
        "\n",
        "@staticmethod: Does not take self or cls, behaves like a regular function within a class."
      ],
      "metadata": {
        "id": "Uqk6mU6XiJkz"
      }
    },
    {
      "cell_type": "markdown",
      "source": [
        "11. What is method overloading in Python?\n",
        "\n",
        "=> Python does not support traditional method overloading. Instead, we use default arguments or *args/**kwargs."
      ],
      "metadata": {
        "id": "0QnunMB4jKRo"
      }
    },
    {
      "cell_type": "markdown",
      "source": [
        "12. What is method overriding in OOP?\n",
        "\n",
        "=> Method overriding occurs when a subclass provides a specific implementation of a method already defined in its parent class."
      ],
      "metadata": {
        "id": "hu4Zxaecj8ST"
      }
    },
    {
      "cell_type": "markdown",
      "source": [
        "13. What is a property decorator in Python?\n",
        "\n",
        "=> @property is used to define a method as a property, allowing method access like an attribute."
      ],
      "metadata": {
        "id": "mWEm-t6fkcFE"
      }
    },
    {
      "cell_type": "markdown",
      "source": [
        "14. Why is polymorphism important in OOP?\n",
        "\n",
        "=> Polymorphism increases flexibility and reusability of code, allowing different classes to be treated uniformly."
      ],
      "metadata": {
        "id": "HSZg2Mc9u9QD"
      }
    },
    {
      "cell_type": "markdown",
      "source": [
        "15. What is an abstract class in Python?\n",
        "\n",
        "=> An abstract class cannot be instantiated and may have abstract methods. It is defined using the abc module."
      ],
      "metadata": {
        "id": "3WMd-iCjvQPj"
      }
    },
    {
      "cell_type": "markdown",
      "source": [
        "16. What are the advantages of OOP?\n",
        "\n",
        "=> Reusability through inheritance\n",
        "\n",
        "Modularity via encapsulation\n",
        "\n",
        "Flexibility with polymorphism\n",
        "\n",
        "Maintainability"
      ],
      "metadata": {
        "id": "Ck7OUBbpvgSl"
      }
    },
    {
      "cell_type": "markdown",
      "source": [
        "17. What is the difference between a class variable and an instance variable?\n",
        "\n",
        "=> 1. Class Variable:\n",
        "\n",
        "Shared across all instances of the class.\n",
        "\n",
        "Defined inside the class but outside any methods.\n",
        "\n",
        "Changing a class variable affects all instances (unless it's shadowed by an instance variable).\n",
        "\n",
        "2.Instance Variable:\n",
        "\n",
        "Unique to each instance of the class.\n",
        "\n",
        "Usually defined using self inside the __init__ method (or other methods).\n",
        "\n",
        "Changing an instance variable only affects that specific instance."
      ],
      "metadata": {
        "id": "JKv_rerkv0uu"
      }
    },
    {
      "cell_type": "markdown",
      "source": [
        "18. What is multiple inheritance in Python?\n",
        "\n",
        "=> Multiple inheritance in Python means a class can inherit attributes and methods from more than one parent class.\n",
        "\n"
      ],
      "metadata": {
        "id": "swUhFEnUw4oA"
      }
    },
    {
      "cell_type": "markdown",
      "source": [
        "19. Explain the purpose of ‘’__str__’ and ‘__repr__’ ‘ methods in Python?\n",
        "\n",
        "=> __str __: User-Friendly String\n",
        "\n",
        "Called by str(object) and the print() function.\n",
        "\n",
        "Purpose: Representation for end users.\n",
        "\n",
        "__repr __: Developer-Friendly String\n",
        "\n",
        "Called by repr(object) or when you type the object name in an interactive shell.\n",
        "\n",
        "Purpose: Debugging and developer representation."
      ],
      "metadata": {
        "id": "OopA0tE3xJ6a"
      }
    },
    {
      "cell_type": "markdown",
      "source": [
        "20. What is the significance of the ‘super()’ function in Python?\n",
        "\n",
        "=> The super() function in Python is used to call methods from a parent or sibling class. It's especially important in inheritance, including multiple inheritance, to ensure proper method resolution and to avoid redundancy."
      ],
      "metadata": {
        "id": "mOLkmY3J4HSX"
      }
    },
    {
      "cell_type": "markdown",
      "source": [
        "21. What is the significance of the __del__ method in Python?\n",
        "\n",
        "=> The __del__ method in Python is a destructor—it is called when an object is about to be destroyed, typically when there are no more references to it.\n",
        "When the object is deleted (or the program ends), __del__ is automatically called, closing the file."
      ],
      "metadata": {
        "id": "kZvXkVeW4hUT"
      }
    },
    {
      "cell_type": "markdown",
      "source": [
        "22. What is the difference between @staticmethod and @classmethod in Python\n",
        "\n",
        "=> @staticmethod:\n",
        "\n",
        "Does not take self or cls as the first parameter.\n",
        "\n",
        "Behaves like a regular function, just lives inside the class for organization.\n",
        "\n",
        "Can't access or modify class or instance state.\n",
        "\n",
        "@classmethod:\n",
        "\n",
        "Takes cls (the class itself) as the first argument.\n",
        "\n",
        "Can access and modify class-level state.\n",
        "\n",
        "Often used for alternative constructors."
      ],
      "metadata": {
        "id": "rNxwKWv65Uah"
      }
    },
    {
      "cell_type": "markdown",
      "source": [
        "23. How does polymorphism work in Python with inheritance?\n",
        "\n",
        "=> Objects of different classes can be treated as objects of a common base class, especially when they share the same method name, allowing the correct method to be called dynamically at runtime. Even if a variable is typed as the base class, Python checks the actual object type to decide which method to run.\n"
      ],
      "metadata": {
        "id": "le8spz4M6c9_"
      }
    },
    {
      "cell_type": "markdown",
      "source": [
        "24. What is method chaining in Python OOP\n",
        "\n",
        "=> Method chaining is a technique where multiple method calls are linked together in a single statement, by having each method return self. Each method performs some action and then returns the same object (self) so that the next method can be called on it.\n"
      ],
      "metadata": {
        "id": "ye8Eqlzl7w_W"
      }
    },
    {
      "cell_type": "markdown",
      "source": [
        "25. What is the purpose of the __call__ method in Python?\n",
        "\n",
        "=> The __call__ method lets an object behave like a function—meaning you can \"call\" an instance as if it were a function.\n",
        "To allow instances of a class to be invoked like functions by defining custom behavior when the object is called using parentheses ().\n"
      ],
      "metadata": {
        "id": "j46hunfx8REk"
      }
    },
    {
      "cell_type": "markdown",
      "source": [
        "#Prarical questions"
      ],
      "metadata": {
        "id": "Ma-1tsA68_jt"
      }
    },
    {
      "cell_type": "markdown",
      "source": [
        "1. Create a parent class Animal with a method speak() that prints a generic message. Create a child class Dog\n",
        "that overrides the speak() method to print \"Bark!\"."
      ],
      "metadata": {
        "id": "E4uHr6gu9L_3"
      }
    },
    {
      "cell_type": "code",
      "source": [
        "class Animal:\n",
        "    def speak(self):\n",
        "        print(\"Animal sound\")\n",
        "\n",
        "class Dog(Animal):\n",
        "    def speak(self):\n",
        "        print(\"Bark!\")\n",
        "\n",
        "d = Dog()\n",
        "d.speak()\n"
      ],
      "metadata": {
        "colab": {
          "base_uri": "https://localhost:8080/"
        },
        "id": "R0LvPqCJIFns",
        "outputId": "037a76e3-263c-4a58-9b21-dfb24c7f37cb"
      },
      "execution_count": null,
      "outputs": [
        {
          "output_type": "stream",
          "name": "stdout",
          "text": [
            "Bark!\n"
          ]
        }
      ]
    },
    {
      "cell_type": "markdown",
      "source": [
        "2.  Write a program to create an abstract class Shape with a method area(). Derive classes Circle and Rectangle\n",
        "from it and implement the area() method in both."
      ],
      "metadata": {
        "id": "_8sb-rPKI2Ox"
      }
    },
    {
      "cell_type": "code",
      "source": [
        "from abc import ABC, abstractmethod\n",
        "\n",
        "class Shape(ABC):\n",
        "    @abstractmethod\n",
        "    def area(self):\n",
        "        pass\n",
        "\n",
        "class Circle(Shape):\n",
        "    def __init__(self, radius):\n",
        "        self.radius = radius\n",
        "\n",
        "    def area(self):\n",
        "        return 3.14 * self.radius * self.radius\n",
        "\n",
        "class Rectangle(Shape):\n",
        "    def __init__(self, width, height):\n",
        "        self.width = width\n",
        "        self.height = height\n",
        "\n",
        "    def area(self):\n",
        "        return self.width * self.height\n",
        "\n",
        "c = Circle(10)\n",
        "r = Rectangle(10, 12)\n",
        "print(c.area())\n",
        "print(r.area())"
      ],
      "metadata": {
        "colab": {
          "base_uri": "https://localhost:8080/"
        },
        "id": "s3VFuVIWKtxa",
        "outputId": "c00431d7-69e7-40d7-dc34-2d6288119b1c"
      },
      "execution_count": null,
      "outputs": [
        {
          "output_type": "stream",
          "name": "stdout",
          "text": [
            "314.0\n",
            "120\n"
          ]
        }
      ]
    },
    {
      "cell_type": "markdown",
      "source": [
        "3. Implement a multi-level inheritance scenario where a class Vehicle has an attribute type. Derive a class Car\n",
        "and further derive a class ElectricCar that adds a battery attribute."
      ],
      "metadata": {
        "id": "tL4IGv30MeoM"
      }
    },
    {
      "cell_type": "code",
      "source": [
        "class Vehicle:\n",
        "    def __init__(self, type):\n",
        "        self.type = type\n",
        "\n",
        "class Car(Vehicle):\n",
        "    def __init__(self, type, brand):\n",
        "        super().__init__(type)\n",
        "        self.brand = brand\n",
        "\n",
        "class ElectricCar(Car):\n",
        "    def __init__(self, type, brand, battery):\n",
        "        super().__init__(type, brand)\n",
        "        self.battery = battery\n",
        "\n",
        "e_car = ElectricCar(\"EV\", \"Tesla\", \"100 kWh\")\n",
        "print(e_car.type, e_car.brand, e_car.battery)\n"
      ],
      "metadata": {
        "colab": {
          "base_uri": "https://localhost:8080/"
        },
        "id": "Z-hSUVqdMoS9",
        "outputId": "26956ade-727b-4315-c0ee-426e4cd2418c"
      },
      "execution_count": null,
      "outputs": [
        {
          "output_type": "stream",
          "name": "stdout",
          "text": [
            "EV Tesla 100 kWh\n"
          ]
        }
      ]
    },
    {
      "cell_type": "markdown",
      "source": [
        "4.  Demonstrate polymorphism by creating a base class Bird with a method fly(). Create two derived classes\n",
        "Sparrow and Penguin that override the fly() method.\n"
      ],
      "metadata": {
        "id": "olYXGGwoQnC5"
      }
    },
    {
      "cell_type": "code",
      "source": [
        "class Bird:\n",
        "    def fly(self):\n",
        "        print(\"Bird is flying\")\n",
        "\n",
        "class Sparrow(Bird):\n",
        "    def fly(self):\n",
        "        print(\"Sparrow flies high\")\n",
        "\n",
        "class Penguin(Bird):\n",
        "    def fly(self):\n",
        "        print(\"Penguins can't fly\")\n",
        "\n",
        "for bird in [Sparrow(), Penguin()]:\n",
        "    bird.fly()"
      ],
      "metadata": {
        "colab": {
          "base_uri": "https://localhost:8080/"
        },
        "id": "WyTIGOXcQzfz",
        "outputId": "ad70548e-3418-4d20-a87b-89e436c87cc4"
      },
      "execution_count": null,
      "outputs": [
        {
          "output_type": "stream",
          "name": "stdout",
          "text": [
            "Sparrow flies high\n",
            "Penguins can't fly\n"
          ]
        }
      ]
    },
    {
      "cell_type": "markdown",
      "source": [
        "5. Write a program to demonstrate encapsulation by creating a class BankAccount with private attributes\n",
        "balance and methods to deposit, withdraw, and check balance."
      ],
      "metadata": {
        "id": "Z_nFqNhfRqn2"
      }
    },
    {
      "cell_type": "code",
      "source": [
        "class BankAccount:\n",
        "    def __init__(self):\n",
        "        self.__balance = 0\n",
        "\n",
        "    def deposit(self, amount):\n",
        "        self.__balance += amount\n",
        "\n",
        "    def withdraw(self, amount):\n",
        "        if amount <= self.__balance:\n",
        "            self.__balance -= amount\n",
        "        else:\n",
        "            print(\"Insufficient balance\")\n",
        "\n",
        "    def check_balance(self):\n",
        "        return self.__balance\n",
        "\n",
        "acc = BankAccount()\n",
        "acc.deposit(1000)\n",
        "acc.withdraw(500)\n",
        "print(acc.check_balance())"
      ],
      "metadata": {
        "colab": {
          "base_uri": "https://localhost:8080/"
        },
        "id": "VklCfqOPR2-y",
        "outputId": "040e7c4c-f81c-4505-ee5b-97bb637e3cf3"
      },
      "execution_count": null,
      "outputs": [
        {
          "output_type": "stream",
          "name": "stdout",
          "text": [
            "500\n"
          ]
        }
      ]
    },
    {
      "cell_type": "markdown",
      "source": [
        "6.  Demonstrate runtime polymorphism using a method play() in a base class Instrument. Derive classes Guitar\n",
        "and Piano that implement their own version of play()"
      ],
      "metadata": {
        "id": "8kwERbpCTO5Y"
      }
    },
    {
      "cell_type": "code",
      "source": [
        "class Instrument:\n",
        "    def play(self):\n",
        "        print(\"Instrument is playing\")\n",
        "\n",
        "class Guitar(Instrument):\n",
        "    def play(self):\n",
        "        print(\"Guitar is playing\")\n",
        "\n",
        "class Piano(Instrument):\n",
        "    def play(self):\n",
        "        print(\"Piano is playing\")\n",
        "\n",
        "for inst in [Guitar(), Piano()]:\n",
        "    inst.play()\n"
      ],
      "metadata": {
        "colab": {
          "base_uri": "https://localhost:8080/"
        },
        "id": "rcugEO-lTbp0",
        "outputId": "b1a411ad-542a-485f-e672-df7cd27c87be"
      },
      "execution_count": null,
      "outputs": [
        {
          "output_type": "stream",
          "name": "stdout",
          "text": [
            "Guitar is playing\n",
            "Piano is playing\n"
          ]
        }
      ]
    },
    {
      "cell_type": "markdown",
      "source": [
        "7. Create a class MathOperations with a class method add_numbers() to add two numbers and a static\n",
        "method subtract_numbers() to subtract two numbers."
      ],
      "metadata": {
        "id": "SxCpI7tCTvoR"
      }
    },
    {
      "cell_type": "code",
      "source": [
        "class MathOperations:\n",
        "    @classmethod\n",
        "    def add_numbers(cls, a, b):\n",
        "        return a + b\n",
        "\n",
        "    @staticmethod\n",
        "    def subtract_numbers(a, b):\n",
        "        return a - b\n",
        "\n",
        "print(MathOperations.add_numbers(10, 5))\n",
        "print(MathOperations.subtract_numbers(10, 5))\n"
      ],
      "metadata": {
        "colab": {
          "base_uri": "https://localhost:8080/"
        },
        "id": "SxiPJxuITyEx",
        "outputId": "738c04ab-3af7-418e-e7d7-fd5371fb75e3"
      },
      "execution_count": null,
      "outputs": [
        {
          "output_type": "stream",
          "name": "stdout",
          "text": [
            "15\n",
            "5\n"
          ]
        }
      ]
    },
    {
      "cell_type": "markdown",
      "source": [
        "8.  Implement a class Person with a class method to count the total number of persons created\n"
      ],
      "metadata": {
        "id": "I1-8cQz-UCLk"
      }
    },
    {
      "cell_type": "code",
      "source": [
        "class Person:\n",
        "    count = 0\n",
        "\n",
        "    def __init__(self):\n",
        "        Person.count += 1\n",
        "\n",
        "    @classmethod\n",
        "    def total_persons(cls):\n",
        "        return cls.count\n",
        "\n",
        "p1 = Person()\n",
        "p2 = Person()\n",
        "print(Person.total_persons())"
      ],
      "metadata": {
        "colab": {
          "base_uri": "https://localhost:8080/"
        },
        "id": "jTNxtSvGUIHz",
        "outputId": "61cb914f-019c-400c-f0d3-9d79d8d2cada"
      },
      "execution_count": null,
      "outputs": [
        {
          "output_type": "stream",
          "name": "stdout",
          "text": [
            "2\n"
          ]
        }
      ]
    },
    {
      "cell_type": "markdown",
      "source": [
        "9. Write a class Fraction with attributes numerator and denominator. Override the str method to display the\n",
        "fraction as \"numerator/denominator\"."
      ],
      "metadata": {
        "id": "hOORuUF_U7La"
      }
    },
    {
      "cell_type": "code",
      "source": [
        "class Fraction:\n",
        "    def __init__(self, numerator, denominator):\n",
        "        self.numerator = numerator\n",
        "        self.denominator = denominator\n",
        "\n",
        "    def __str__(self):\n",
        "        return f\"{self.numerator}/{self.denominator}\"\n",
        "\n",
        "f = Fraction(3, 4)\n",
        "print(f)\n",
        "\n"
      ],
      "metadata": {
        "colab": {
          "base_uri": "https://localhost:8080/"
        },
        "id": "aTADxAHGU-7y",
        "outputId": "9ca4c46f-f9ff-46a6-d227-61b4b8d852d9"
      },
      "execution_count": null,
      "outputs": [
        {
          "output_type": "stream",
          "name": "stdout",
          "text": [
            "3/4\n"
          ]
        }
      ]
    },
    {
      "cell_type": "markdown",
      "source": [
        "10. Demonstrate operator overloading by creating a class Vector and overriding the add method to add two\n",
        "vectors."
      ],
      "metadata": {
        "id": "L1SeklIyVS4J"
      }
    },
    {
      "cell_type": "code",
      "source": [
        "class Vector:\n",
        "    def __init__(self, x, y):\n",
        "        self.x = x\n",
        "        self.y = y\n",
        "\n",
        "    def __add__(self, other):\n",
        "        return Vector(self.x + other.x, self.y + other.y)\n",
        "\n",
        "    def __str__(self):\n",
        "        return f\"({self.x}, {self.y})\"\n",
        "\n",
        "v1 = Vector(1, 2)\n",
        "v2 = Vector(3, 4)\n",
        "print(v1 + v2)"
      ],
      "metadata": {
        "colab": {
          "base_uri": "https://localhost:8080/"
        },
        "id": "KjpOt14SVkvL",
        "outputId": "e2df48da-b03f-4da4-c60d-6a9925a1a278"
      },
      "execution_count": null,
      "outputs": [
        {
          "output_type": "stream",
          "name": "stdout",
          "text": [
            "(4, 6)\n"
          ]
        }
      ]
    },
    {
      "cell_type": "markdown",
      "source": [
        "11. Create a class Person with attributes name and age. Add a method greet() that prints \"Hello, my name is\n",
        "{name} and I am {age} years old.\""
      ],
      "metadata": {
        "id": "65RrPX2FWLuY"
      }
    },
    {
      "cell_type": "code",
      "source": [
        "class Person:\n",
        "    def __init__(self, name, age):\n",
        "        self.name = name\n",
        "        self.age = age\n",
        "\n",
        "    def greet(self):\n",
        "        print(f\"Hello, my name is {self.name} and I am {self.age} years old.\")\n",
        "\n",
        "p = Person(\"Aayush\", 21)\n",
        "p.greet()\n"
      ],
      "metadata": {
        "colab": {
          "base_uri": "https://localhost:8080/"
        },
        "id": "E87DID7CWihT",
        "outputId": "c60c1472-903f-46e9-e3fa-f571e3fb92d0"
      },
      "execution_count": null,
      "outputs": [
        {
          "output_type": "stream",
          "name": "stdout",
          "text": [
            "Hello, my name is Aayush and I am 21 years old.\n"
          ]
        }
      ]
    },
    {
      "cell_type": "markdown",
      "source": [
        "12.  Implement a class Student with attributes name and grades. Create a method average_grade() to compute\n",
        "the average of the grades."
      ],
      "metadata": {
        "id": "Tx1xxqUcWzBE"
      }
    },
    {
      "cell_type": "code",
      "source": [
        "class Student:\n",
        "    def __init__(self, name, grades):\n",
        "        self.name = name\n",
        "        self.grades = grades\n",
        "\n",
        "    def average_grade(self):\n",
        "        return sum(self.grades) / len(self.grades)\n",
        "\n",
        "s = Student(\"Aayush\", [85, 92, 74])\n",
        "print(s.average_grade())"
      ],
      "metadata": {
        "colab": {
          "base_uri": "https://localhost:8080/"
        },
        "id": "CDqmyJdZW82B",
        "outputId": "68a6b689-c50c-4170-e719-0391af056d1f"
      },
      "execution_count": null,
      "outputs": [
        {
          "output_type": "stream",
          "name": "stdout",
          "text": [
            "83.66666666666667\n"
          ]
        }
      ]
    },
    {
      "cell_type": "markdown",
      "source": [
        "13. . Create a class Rectangle with methods set_dimensions() to set the dimensions and area() to calculate the\n",
        "area."
      ],
      "metadata": {
        "id": "xBCnmJg3XZik"
      }
    },
    {
      "cell_type": "code",
      "source": [
        "class Rectangle:\n",
        "    def set_dimensions(self, width, height):\n",
        "        self.width = width\n",
        "        self.height = height\n",
        "\n",
        "    def area(self):\n",
        "        return self.width * self.height\n",
        "\n",
        "r = Rectangle()\n",
        "r.set_dimensions(5, 3)\n",
        "print(r.area())\n"
      ],
      "metadata": {
        "id": "R1Qm7h5rXqD5"
      },
      "execution_count": null,
      "outputs": []
    },
    {
      "cell_type": "markdown",
      "source": [
        "14.  Create a class Employee with a method calculate_salary() that computes the salary based on hours worked\n",
        "and hourly rate. Create a derived class Manager that adds a bonus to the salary"
      ],
      "metadata": {
        "id": "OrKL9UFRX2dc"
      }
    },
    {
      "cell_type": "code",
      "source": [
        "class Employee:\n",
        "    def calculate_salary(self, hours, rate):\n",
        "        return hours * rate\n",
        "\n",
        "class Manager(Employee):\n",
        "    def calculate_salary(self, hours, rate, bonus):\n",
        "        base = super().calculate_salary(hours, rate)\n",
        "        return base + bonus\n",
        "\n",
        "m = Manager()\n",
        "print(m.calculate_salary(40, 50, 1000))\n"
      ],
      "metadata": {
        "colab": {
          "base_uri": "https://localhost:8080/"
        },
        "id": "AR5rEuJsaWO7",
        "outputId": "5ed01286-6415-4c66-9ebc-94f978dbb767"
      },
      "execution_count": null,
      "outputs": [
        {
          "output_type": "stream",
          "name": "stdout",
          "text": [
            "3000\n"
          ]
        }
      ]
    },
    {
      "cell_type": "markdown",
      "source": [
        "15. Create a class Product with attributes name, price, and quantity. Implement a method total_price() that\n",
        "calculates the total price of the product."
      ],
      "metadata": {
        "id": "Yfbe6krza4Mv"
      }
    },
    {
      "cell_type": "code",
      "source": [
        "class Product:\n",
        "    def __init__(self, name, price, quantity):\n",
        "        self.name = name\n",
        "        self.price = price\n",
        "        self.quantity = quantity\n",
        "\n",
        "    def total_price(self):\n",
        "        return self.price * self.quantity\n",
        "\n",
        "p = Product(\"Pen\", 10, 5)\n",
        "print(p.total_price())"
      ],
      "metadata": {
        "colab": {
          "base_uri": "https://localhost:8080/"
        },
        "id": "mTc6wUUzbBiN",
        "outputId": "882625cc-456b-4993-c89a-bf01a70f2a87"
      },
      "execution_count": null,
      "outputs": [
        {
          "output_type": "stream",
          "name": "stdout",
          "text": [
            "50\n"
          ]
        }
      ]
    },
    {
      "cell_type": "markdown",
      "source": [
        "16. Create a class Animal with an abstract method sound(). Create two derived classes Cow and Sheep that\n",
        "implement the sound() method."
      ],
      "metadata": {
        "id": "pSRAti1tbXQF"
      }
    },
    {
      "cell_type": "code",
      "source": [
        "from abc import ABC, abstractmethod\n",
        "\n",
        "class Animal(ABC):\n",
        "    @abstractmethod\n",
        "    def sound(self):\n",
        "        pass\n",
        "\n",
        "class Cow(Animal):\n",
        "    def sound(self):\n",
        "        print(\"Moo\")\n",
        "\n",
        "class Sheep(Animal):\n",
        "    def sound(self):\n",
        "        print(\"Baa\")\n",
        "\n",
        "Cow().sound()\n",
        "Sheep().sound()"
      ],
      "metadata": {
        "colab": {
          "base_uri": "https://localhost:8080/"
        },
        "id": "AZCuoFTmbb39",
        "outputId": "88cbc1d5-2320-4fe9-e779-53c5228dc6d1"
      },
      "execution_count": null,
      "outputs": [
        {
          "output_type": "stream",
          "name": "stdout",
          "text": [
            "Moo\n",
            "Baa\n"
          ]
        }
      ]
    },
    {
      "cell_type": "markdown",
      "source": [
        "17.  Create a class Book with attributes title, author, and year_published. Add a method get_book_info() that\n",
        "returns a formatted string with the book's details."
      ],
      "metadata": {
        "id": "1L3C_3TxcHU0"
      }
    },
    {
      "cell_type": "code",
      "source": [
        "class Book:\n",
        "    def __init__(self, title, author, year_published):\n",
        "        self.title = title\n",
        "        self.author = author\n",
        "        self.year_published = year_published\n",
        "\n",
        "    def get_book_info(self):\n",
        "        return f\"{self.title} by {self.author}, published in {self.year_published}\"\n",
        "\n",
        "b = Book(\"book title\", \"George Orwell\", 1949)\n",
        "print(b.get_book_info())\n"
      ],
      "metadata": {
        "colab": {
          "base_uri": "https://localhost:8080/"
        },
        "id": "3xh24MSecNXk",
        "outputId": "82e421ab-89ef-430f-ac99-b94633e0d1cb"
      },
      "execution_count": null,
      "outputs": [
        {
          "output_type": "stream",
          "name": "stdout",
          "text": [
            "book title by George Orwell, published in 1949\n"
          ]
        }
      ]
    },
    {
      "cell_type": "markdown",
      "source": [
        "18.  Create a class House with attributes address and price. Create a derived class Mansion that adds an\n",
        "attribute number_of_rooms."
      ],
      "metadata": {
        "id": "SCxSS2u4XZNN"
      }
    },
    {
      "cell_type": "code",
      "source": [
        "class House:\n",
        "    def __init__(self, address, price):\n",
        "        self.address = address\n",
        "        self.price = price\n",
        "\n",
        "class Mansion(House):\n",
        "    def __init__(self, address, price, number_of_rooms):\n",
        "        super().__init__(address, price)\n",
        "        self.number_of_rooms = number_of_rooms\n",
        "\n",
        "m = Mansion(\"mahesh nagar jaipur  \", 7000000, 5)\n",
        "print(m.address, m.price, m.number_of_rooms)\n"
      ],
      "metadata": {
        "colab": {
          "base_uri": "https://localhost:8080/"
        },
        "id": "NY78RrWScSaO",
        "outputId": "468d1480-e2d7-400d-f553-0b9b0cfd5789"
      },
      "execution_count": null,
      "outputs": [
        {
          "output_type": "stream",
          "name": "stdout",
          "text": [
            "mahesh nagar jaipur 7000000 5\n"
          ]
        }
      ]
    }
  ]
}