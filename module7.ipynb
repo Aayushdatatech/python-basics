{
  "nbformat": 4,
  "nbformat_minor": 0,
  "metadata": {
    "colab": {
      "provenance": []
    },
    "kernelspec": {
      "name": "python3",
      "display_name": "Python 3"
    },
    "language_info": {
      "name": "python"
    }
  },
  "cells": [
    {
      "cell_type": "markdown",
      "source": [
        "#Theory Questions"
      ],
      "metadata": {
        "id": "wnSS5j92Eo_9"
      }
    },
    {
      "cell_type": "markdown",
      "source": [
        "1. What is the difference between interpreted and compiled languages?\n",
        "\n",
        "=> **Interpreted**:-The source code is executed line-by-line by an interpreter at runtime. Slower due to real-time interpretation. Example is python.\n",
        " **Compiled**:- The source code is translated into machine code (binary) by a compiler before it is run. Usually faster because it's optimized and runs directly on the hardware. Examples are C,C++\n",
        "\n",
        "\n",
        "\n",
        "\n"
      ],
      "metadata": {
        "id": "tII4JAoYErXg"
      }
    },
    {
      "cell_type": "markdown",
      "source": [
        "2.  What is exception handling in Python?\n",
        "\n",
        "=> Exception handling in Python is a way to deal with errors or unexpected events that occur while a program is running, without crashing the program.\n",
        "For example:- Dividing by zero, Accessing a file that doesn't exist, Using a variable that hasn't been defined"
      ],
      "metadata": {
        "id": "APn3aByeHR-m"
      }
    },
    {
      "cell_type": "markdown",
      "source": [
        "3. What is the purpose of the finally block in exception handling?\n",
        "\n",
        "=> The finally block in Python exception handling is used to define cleanup actions that must be executed no matter what — whether an exception occurs or not.\n",
        "\n"
      ],
      "metadata": {
        "id": "OdK65mFWIJq1"
      }
    },
    {
      "cell_type": "markdown",
      "source": [
        "4. What is logging in Python?\n",
        "\n",
        "=> Logging in Python is the process of recording events, errors, or informational messages that happen while your code runs. It’s a way to track the behavior of your application and helps with debugging, monitoring, and auditing.\n",
        "\n"
      ],
      "metadata": {
        "id": "fFtlT3rfIyc5"
      }
    },
    {
      "cell_type": "markdown",
      "source": [
        "5. What is the significance of the __del__ method in Python?\n",
        "\n",
        "=> The __del__ method in Python is a special method known as a destructor. It's called automatically when an object is about to be destroyed.\n",
        "\n"
      ],
      "metadata": {
        "id": "SqyF5O5UJ7eK"
      }
    },
    {
      "cell_type": "markdown",
      "source": [
        "6. What is the difference between import and from ... import in Python?\n",
        "\n",
        "=> The difference between import and from ... import in Python lies in how modules or functions are brought into your program, and how you access them afterward.\n",
        "\n",
        "**import**:- Brings in the entire module\n",
        " You must prefix everything with the module name (math.sqrt, math.pi, etc.)\n",
        "\n",
        "**from ... import**:- Brings in only what you specify\n",
        " You do not need to use the module name prefix.\n",
        "\n"
      ],
      "metadata": {
        "id": "py-AsL-oK79j"
      }
    },
    {
      "cell_type": "markdown",
      "source": [
        "7. How can you handle multiple exceptions in Python?\n",
        "\n",
        "=>1. Using Multiple except Blocks. Handle different exception types separately\n",
        "2. Handling Multiple Exceptions in One Block.\n",
        "If multiple exceptions have the same handling logic, you can group them\n",
        "3. Catching All Exceptions (except Exception as e:)\n",
        "4. Using else and finally with Multiple Exceptions\n",
        "\n",
        " else: runs if no exceptions occur\n",
        "\n",
        "   finally: always runs, even if there was an exception\n"
      ],
      "metadata": {
        "id": "dscoZvvfMlqk"
      }
    },
    {
      "cell_type": "markdown",
      "source": [
        "8. What is the purpose of the with statement when handling files in Python?\n",
        "\n",
        "=>The with statement in Python is used to manage resources like files in a safe and efficient way. When handling files, its main purpose is to ensure the file is automatically closed after you're done using it — even if an error occurs during reading or writing."
      ],
      "metadata": {
        "id": "RvmUFn8JSwO7"
      }
    },
    {
      "cell_type": "markdown",
      "source": [
        "9. What is the difference between multithreading and multiprocessing\n",
        "\n",
        "=>**Multithreading**:-Uses multiple threads within the same process.\n",
        "\n",
        "Threads share the same memory space.\n",
        "\n",
        "Best for I/O-bound tasks (e.g., file operations, network requests).\n",
        "\n",
        "Limited by the Global Interpreter Lock (GIL) in CPython, which allows only one thread to execute Python bytecode at a time.\n",
        "\n",
        "**Multiprocessing**:-Uses multiple processes, each with its own memory space.\n",
        "\n",
        "Takes full advantage of multiple CPU cores.\n",
        "\n",
        "Best for CPU-bound tasks (e.g., number crunching, image processing).\n",
        "\n",
        "Not limited by the GIL.\n"
      ],
      "metadata": {
        "id": "-pa1A84WTHgN"
      }
    },
    {
      "cell_type": "markdown",
      "source": [
        "10. What are the advantages of using logging in a program ?\n",
        "\n",
        "=>Using logging in a program has several advantages, especially when you're building or maintaining real-world applications\n",
        "\n",
        "1.Helps with Debugging and Troubleshooting\n",
        "\n",
        "2.Persistent Record of Events\n",
        "\n",
        "3.Granular Control Over Output\n",
        "\n",
        "4.Better than print()\n",
        "\n"
      ],
      "metadata": {
        "id": "4KjpnzCxT6D-"
      }
    },
    {
      "cell_type": "markdown",
      "source": [
        "11. What is memory management in Python?\n",
        "\n",
        "=> Memory management in Python refers to the way Python handles the allocation, use, and cleanup of memory used by variables, objects, and data structures during program execution."
      ],
      "metadata": {
        "id": "WKFJHSP1Vxcn"
      }
    },
    {
      "cell_type": "markdown",
      "source": [
        "12.  What are the basic steps involved in exception handling in Python?\n",
        "\n",
        "=> 1.\n",
        "Wrap the code that might raise an exception inside a try block.\n",
        "\n",
        "2.\n",
        "Handle specific exceptions using one or more except blocks\n",
        "\n",
        "3.If no exceptions occur in the try block, the else block runs.\n",
        "\n",
        "4.The finally block is always executed, whether or not an exception occurred"
      ],
      "metadata": {
        "id": "o1DyauFkWmIm"
      }
    },
    {
      "cell_type": "markdown",
      "source": [
        "13. Why is memory management important in Python?\n",
        "\n",
        "=> Memory management is important in Python because it ensures that programs run efficiently, reliably, and without crashing due to resource exhaustion. Even though Python handles memory automatically, understanding and managing memory is crucial for writing scalable and optimized applications.\n",
        "\n"
      ],
      "metadata": {
        "id": "HWhgV6ohYwss"
      }
    },
    {
      "cell_type": "markdown",
      "source": [
        "14. What is the role of try and except in exception handling?\n",
        "\n",
        "=> **try Block — Monitor for Errors**\n",
        "You place risky code (that might raise an exception) inside the try block.\n",
        "Python monitors this block and jumps to the except block if an error occurs.\n",
        "\n",
        "**except Block — Handle Errors**\n",
        "If an exception is raised inside the try block, Python looks for a matching except block to handle it.\n",
        "If found, the code inside the except block is executed"
      ],
      "metadata": {
        "id": "X7Bd8ym8cE5R"
      }
    },
    {
      "cell_type": "markdown",
      "source": [
        "15. How does Python's garbage collection system work?\n",
        "\n",
        "=> Python’s garbage collection (GC) system is an automatic memory management feature that helps free up memory by deleting objects that are no longer needed. It prevents memory leaks and allows you to focus on writing code instead of manually managing memory.\n",
        "\n"
      ],
      "metadata": {
        "id": "5Ct28fz3dIRy"
      }
    },
    {
      "cell_type": "markdown",
      "source": [
        "16. What is the purpose of the else block in exception handling?\n",
        "\n",
        "=> The else block in Python's exception handling is used to define code that should run only if no exceptions were raised in the try block."
      ],
      "metadata": {
        "id": "mUtrJuLVdzj4"
      }
    },
    {
      "cell_type": "markdown",
      "source": [
        "17. What are the common logging levels in Python?\n",
        "\n",
        "=> DEBUG\t:-\tDetailed information for debugging\n",
        "\n",
        "INFO\t\t:- General information about program execution\n",
        "\n",
        "WARNING:-\tSomething unexpected, but not an error\n",
        "\n",
        "ERROR\t:-\tA more serious problem — an error occurred\n",
        "\n",
        "CRITICAL:-\tVery serious error — program may not continue"
      ],
      "metadata": {
        "id": "2kkYq524ejSY"
      }
    },
    {
      "cell_type": "markdown",
      "source": [
        "18. What is the difference between os.fork() and multiprocessing in Python?\n",
        "\n",
        "=> **os.fork()**\n",
        "What it is: A low-level system call (available on Unix/Linux systems) that duplicates the current process by creating a child process.\n",
        "\n",
        "How it works: After calling fork(), you have two nearly identical processes running—the parent and the child.\n",
        "\n",
        "Returns:\n",
        "\n",
        "In the parent process, os.fork() returns the child’s process ID (PID).\n",
        "\n",
        "In the child process, it returns 0.\n",
        "\n",
        "Use case: When you want fine-grained control over process creation and management at the OS level.\n",
        "\n",
        "\n",
        "**multiprocessing Module**\n",
        "What it is: A high-level Python library for spawning processes, designed to work cross-platform (Windows, Linux, macOS).\n",
        "\n",
        "How it works: Provides a Process class and other utilities to create and manage processes more easily and safely.\n",
        "\n",
        "Use case: When you want to run multiple processes in Python with less hassle, including inter-process communication (IPC), synchronization, and managing shared data."
      ],
      "metadata": {
        "id": "Reyjfdr8gBvC"
      }
    },
    {
      "cell_type": "markdown",
      "source": [
        "19. What is the importance of closing a file in Python?\n",
        "\n",
        "=> Closing a file in Python is crucial because it ensures that system resources are released properly and your data is saved or updated correctly. Failing to close a file can lead to data loss, memory leaks, file corruption, or locked resources.\n",
        "\n"
      ],
      "metadata": {
        "id": "aiqgu6oshFe7"
      }
    },
    {
      "cell_type": "markdown",
      "source": [
        "20. What is the difference between file.read() and file.readline() in Python?\n",
        "\n",
        "=>**file.read()**\n",
        "Reads the entire file (or a specified number of bytes) into a single string.\n",
        "\n",
        "**file.readline()**\n",
        "Reads one line from the file at a time (up to the next newline character).\n",
        "\n"
      ],
      "metadata": {
        "id": "yaGMHOU1hdM1"
      }
    },
    {
      "cell_type": "markdown",
      "source": [
        "21. What is the logging module in Python used for?\n",
        "\n",
        "=> he logging module in Python is used to record messages that describe the flow and state of a program during execution. It provides a flexible and standardized way to log information such as errors, warnings, status updates, debugging details, or critical system events."
      ],
      "metadata": {
        "id": "AhfvS1f7iQS5"
      }
    },
    {
      "cell_type": "markdown",
      "source": [
        "22. What is the os module in Python used for in file handling?\n",
        "\n",
        "=> **1.Working with Directories**:-Create a directory, Change current directory, List files and directories, Remove a directory\n",
        "\n",
        "**2. Handling Files**:-\n",
        "Check if a file exists, Check if it's a file or directory, Delete a file, Rename a file\n",
        "\n",
        "**3. Path Operations (via os.path)**:-Join paths safely, Get absolute path\n",
        "\n"
      ],
      "metadata": {
        "id": "xqzgw94aiyqC"
      }
    },
    {
      "cell_type": "markdown",
      "source": [
        "23. What are the challenges associated with memory management in Python?\n",
        "\n",
        "=> **Circular References**:-\n",
        "When two or more objects reference each other, they form a cycle.\n",
        "Python's garbage collector can detect and collect them, but not always immediately.\n",
        "\n",
        "**Memory Leaks from Unreleased References**:-\n",
        "Keeping unnecessary references (e.g. global variables, caches, or containers holding unused data) prevents objects from being garbage collected.\n",
        "\n",
        "**Inefficient Use of Data Structures**:-\n",
        "Using the wrong data type (e.g., list instead of set or tuple) can cause higher memory usage.\n",
        "\n",
        "**Heavy Use of Mutable Objects**:-\n",
        "Changes to mutable objects like lists and dictionaries can cause unexpected memory spikes.\n",
        "\n"
      ],
      "metadata": {
        "id": "zvjEEA4ClFy9"
      }
    },
    {
      "cell_type": "markdown",
      "source": [
        "24. How do you raise an exception manually in Python?\n",
        "\n",
        "=> In Python, you can raise an exception manually using the raise keyword. This is useful when you want to enforce rules, validate data, or signal that something unexpected has occurred in your program.\n",
        "Example: Raising a Built-in Exception, Raising Custom Exceptions"
      ],
      "metadata": {
        "id": "FpgC9iaXm8so"
      }
    },
    {
      "cell_type": "markdown",
      "source": [
        "25. Why is it important to use multithreading in certain applications?\n",
        "\n",
        "=> Using multithreading in certain applications is important because it helps improve responsiveness, resource utilization, and the ability to handle multiple tasks concurrently, especially in I/O-bound programs."
      ],
      "metadata": {
        "id": "8WmT-CLCnsKN"
      }
    },
    {
      "cell_type": "markdown",
      "source": [
        "# Practical Questions"
      ],
      "metadata": {
        "id": "Cf4Ie_yLod0R"
      }
    },
    {
      "cell_type": "markdown",
      "source": [
        "1. How can you open a file for writing in Python and write a string to it?"
      ],
      "metadata": {
        "id": "vikoBcknokCb"
      }
    },
    {
      "cell_type": "code",
      "source": [
        "with open('example.txt', 'w') as file:\n",
        "  file.write('Hello, Aayush here')"
      ],
      "metadata": {
        "id": "NlA1oESJIj7m"
      },
      "execution_count": null,
      "outputs": []
    },
    {
      "cell_type": "markdown",
      "source": [
        "2. Write a Python program to read the contents of a file and print each line."
      ],
      "metadata": {
        "id": "j3yOl1POKqo3"
      }
    },
    {
      "cell_type": "code",
      "source": [
        "with open('example.txt', 'w') as file:\n",
        "  file.write('Hello, Aayush here\\n')\n",
        "  file.write('myself Aayush Gupta\\n')\n",
        "  file.write('I am an engineering student\\n')\n",
        "\n",
        "with open('example.txt','r') as f:\n",
        "  print(f.read())"
      ],
      "metadata": {
        "colab": {
          "base_uri": "https://localhost:8080/"
        },
        "id": "rGIlqRkvK-28",
        "outputId": "7f1834a4-ff83-42aa-80f1-e137d0ecbe58"
      },
      "execution_count": 2,
      "outputs": [
        {
          "output_type": "stream",
          "name": "stdout",
          "text": [
            "Hello, Aayush here\n",
            "myself Aayush Gupta\n",
            "I am an engineering student\n",
            "\n"
          ]
        }
      ]
    },
    {
      "cell_type": "markdown",
      "source": [
        "3. How would you handle a case where the file doesn't exist while trying to open it for reading?"
      ],
      "metadata": {
        "id": "lwZAFWw2QXMP"
      }
    },
    {
      "cell_type": "code",
      "source": [
        "try:\n",
        "    with open('file.txt', 'r') as file:\n",
        "        print(file.readlines())\n",
        "except FileNotFoundError:\n",
        "    print(\"Error: The file 'file.txt' does not exist.\")"
      ],
      "metadata": {
        "colab": {
          "base_uri": "https://localhost:8080/"
        },
        "id": "fFsv1gIjQmjQ",
        "outputId": "b882743b-0e07-47e7-8b28-9abe326f7fce"
      },
      "execution_count": null,
      "outputs": [
        {
          "output_type": "stream",
          "name": "stdout",
          "text": [
            "Error: The file 'file.txt' does not exist.\n"
          ]
        }
      ]
    },
    {
      "cell_type": "markdown",
      "source": [
        "4. Write a Python script that reads from one file and writes its content to another file?"
      ],
      "metadata": {
        "id": "DVQxMcaiRlpA"
      }
    },
    {
      "cell_type": "code",
      "source": [
        "\n",
        "with open('example.txt', 'r') as src:\n",
        "        content = src.read()\n",
        "\n",
        "with open('anotheer_file', 'w') as dest:\n",
        "        dest.write(content)\n",
        "\n"
      ],
      "metadata": {
        "id": "22DkwXZ0SGLS"
      },
      "execution_count": null,
      "outputs": []
    },
    {
      "cell_type": "markdown",
      "source": [
        "5. How would you catch and handle division by zero error in Python?"
      ],
      "metadata": {
        "id": "RZbksqBQVEsH"
      }
    },
    {
      "cell_type": "code",
      "source": [
        "try:\n",
        "    num = 10\n",
        "    den = 0\n",
        "    result = num / den\n",
        "    print(f\"Result: {result}\")\n",
        "except ZeroDivisionError:\n",
        "    print(\"Error: Division by zero is not allowed.\")"
      ],
      "metadata": {
        "colab": {
          "base_uri": "https://localhost:8080/"
        },
        "id": "EWvMJSyfRgnz",
        "outputId": "1ce8585b-f2cf-4976-8fc3-c3e68d9e4830"
      },
      "execution_count": null,
      "outputs": [
        {
          "output_type": "stream",
          "name": "stdout",
          "text": [
            "Error: Division by zero is not allowed.\n"
          ]
        }
      ]
    },
    {
      "cell_type": "markdown",
      "source": [
        "6. Write a Python program that logs an error message to a log file when a division by zero exception occurs."
      ],
      "metadata": {
        "id": "8qxFM4gKWHG5"
      }
    },
    {
      "cell_type": "code",
      "source": [
        "import logging\n",
        "# Configure logging to write to a file\n",
        "logging.basicConfig(filename='error.log', level=logging.ERROR, format='%(asctime)s %(levelname)s %(message)s')\n",
        "\n",
        "try:\n",
        "    num = 10\n",
        "    deno = 0\n",
        "    result = num/ deno\n",
        "    print(f\"Result: {result}\")\n",
        "\n",
        "except ZeroDivisionError as e:\n",
        "    # Log the error to the file\n",
        "    logging.error(\"Division by zero error occurred\")\n",
        "    logging.shutdown()"
      ],
      "metadata": {
        "colab": {
          "base_uri": "https://localhost:8080/"
        },
        "id": "0BuaonmDWU4i",
        "outputId": "10b4eb92-decf-4e15-b156-a5a5072c0752"
      },
      "execution_count": null,
      "outputs": [
        {
          "output_type": "stream",
          "name": "stderr",
          "text": [
            "ERROR:root:Division by zero error occurred\n"
          ]
        }
      ]
    },
    {
      "cell_type": "markdown",
      "source": [
        "7. How do you log information at different levels (INFO, ERROR, WARNING) in Python using the logging module?"
      ],
      "metadata": {
        "id": "e5pygLDzdXSU"
      }
    },
    {
      "cell_type": "code",
      "source": [
        "\n",
        "import logging\n",
        "\n",
        "# Configure logging\n",
        "logging.basicConfig(filename='program.log', level=logging.DEBUG, format='%(asctime)s %(levelname)s %(message)s')\n",
        "\n",
        "# Log messages at different levels\n",
        "logging.debug(\"This is a DEBUG message (useful for development).\")\n",
        "logging.info(\"This is an INFO message (general information).\")\n",
        "logging.warning(\"This is a WARNING message (something might be wrong).\")\n",
        "logging.error(\"This is an ERROR message (something went wrong).\")\n",
        "logging.critical(\"This is a CRITICAL message (major failure).\")"
      ],
      "metadata": {
        "colab": {
          "base_uri": "https://localhost:8080/"
        },
        "id": "O2uTMywDePha",
        "outputId": "61568ea2-ce63-449d-a5ab-4f623635c8b1"
      },
      "execution_count": null,
      "outputs": [
        {
          "output_type": "stream",
          "name": "stderr",
          "text": [
            "WARNING:root:This is a WARNING message (something might be wrong).\n",
            "ERROR:root:This is an ERROR message (something went wrong).\n",
            "CRITICAL:root:This is a CRITICAL message (major failure).\n"
          ]
        }
      ]
    },
    {
      "cell_type": "markdown",
      "source": [
        "8. Write a program to handle a file opening error using exception handling?\n"
      ],
      "metadata": {
        "id": "-L-W4zcmhtq1"
      }
    },
    {
      "cell_type": "code",
      "source": [
        "\n",
        "try:\n",
        "    # Attempt to open the file\n",
        "    with open('filename.txt', 'r') as file:\n",
        "        content = file.read()\n",
        "        print(content)\n",
        "\n",
        "except FileNotFoundError:\n",
        "    print(f\"Error: The file was not found.\")\n"
      ],
      "metadata": {
        "colab": {
          "base_uri": "https://localhost:8080/"
        },
        "id": "BBXPGmSOhzAl",
        "outputId": "dd98c571-914c-44f9-f34a-95ed6064f652"
      },
      "execution_count": null,
      "outputs": [
        {
          "output_type": "stream",
          "name": "stdout",
          "text": [
            "Error: The file was not found.\n"
          ]
        }
      ]
    },
    {
      "cell_type": "markdown",
      "source": [
        "9. How can you read a file line by line and store its content in a list in Python?"
      ],
      "metadata": {
        "id": "FDSXTbNyiPoT"
      }
    },
    {
      "cell_type": "code",
      "source": [
        "\n",
        "with open('example.txt', 'r') as file:\n",
        "    lines = file.readlines()\n",
        "\n",
        "lines = [line.strip() for line in lines]\n",
        "print(lines)"
      ],
      "metadata": {
        "colab": {
          "base_uri": "https://localhost:8080/"
        },
        "id": "dYpS8SFZiUMr",
        "outputId": "576799be-f986-42ba-8900-36f07aca8b03"
      },
      "execution_count": null,
      "outputs": [
        {
          "output_type": "stream",
          "name": "stdout",
          "text": [
            "['Hello, Aayush here', 'myself Aayush Gupta', 'I am an engineering student']\n"
          ]
        }
      ]
    },
    {
      "cell_type": "markdown",
      "source": [
        "10. How can you append data to an existing file in Python?"
      ],
      "metadata": {
        "id": "1bXN6drXi7vF"
      }
    },
    {
      "cell_type": "code",
      "source": [
        "with open('example.txt', 'a') as file:\n",
        "    file.write('This is a new line of text.\\n')"
      ],
      "metadata": {
        "id": "9H8d1tFTjghn"
      },
      "execution_count": null,
      "outputs": []
    },
    {
      "cell_type": "markdown",
      "source": [
        "11. Write a Python program that uses a try-except block to handle an error when attempting to access a\n",
        "dictionary key that doesn't exist."
      ],
      "metadata": {
        "id": "551aChd1jy5V"
      }
    },
    {
      "cell_type": "code",
      "source": [
        "person = {'name': 'Alice','age': 30}\n",
        "\n",
        "try:\n",
        "    print(\"City:\", person['city'])\n",
        "\n",
        "except KeyError:\n",
        "    print(\"Error: The key 'city' does not exist in the dictionary.\")"
      ],
      "metadata": {
        "colab": {
          "base_uri": "https://localhost:8080/"
        },
        "id": "JcheoHIPkNL2",
        "outputId": "c693dc78-3cc5-4143-d8eb-cb2bf44924e3"
      },
      "execution_count": null,
      "outputs": [
        {
          "output_type": "stream",
          "name": "stdout",
          "text": [
            "Error: The key 'city' does not exist in the dictionary.\n"
          ]
        }
      ]
    },
    {
      "cell_type": "markdown",
      "source": [
        "12. Write a program that demonstrates using multiple except blocks to handle different types of exceptions."
      ],
      "metadata": {
        "id": "7HtJdD6WkopG"
      }
    },
    {
      "cell_type": "code",
      "source": [
        "try:\n",
        "    num1 = int(input(\"Enter the numerator: \"))\n",
        "    num2 = int(input(\"Enter the denominator: \"))\n",
        "\n",
        "    result = num1 / num2\n",
        "    print(f\"Result: {result}\")\n",
        "\n",
        "except ValueError:\n",
        "    print(\"Error: Please enter valid integers.\")\n",
        "\n",
        "except ZeroDivisionError:\n",
        "    print(\"Error: Division by zero is not allowed.\")\n",
        "\n",
        "except Exception as e:\n",
        "    # Generic catch-all for any other unexpected exceptions\n",
        "    print(f\"An unexpected error occurred: {e}\")\n"
      ],
      "metadata": {
        "colab": {
          "base_uri": "https://localhost:8080/"
        },
        "id": "31QJ98K2lI6o",
        "outputId": "147b8e8e-1a35-4a23-f1a2-7f7a1fff0e6b"
      },
      "execution_count": null,
      "outputs": [
        {
          "output_type": "stream",
          "name": "stdout",
          "text": [
            "Enter the numerator: 4\n",
            "Enter the denominator: abd\n",
            "Error: Please enter valid integers.\n"
          ]
        }
      ]
    },
    {
      "cell_type": "markdown",
      "source": [
        "13. How would you check if a file exists before attempting to read it in Python."
      ],
      "metadata": {
        "id": "Xa_CRZoomgKF"
      }
    },
    {
      "cell_type": "code",
      "source": [
        "import os\n",
        "\n",
        "filename = 'example.txt'\n",
        "\n",
        "if os.path.exists(filename):\n",
        "    with open(filename, 'r') as file:\n",
        "        content = file.read()\n",
        "        print(content)\n",
        "else:\n",
        "    print(f\"Error: The file '{filename}' does not exist.\")\n"
      ],
      "metadata": {
        "colab": {
          "base_uri": "https://localhost:8080/"
        },
        "id": "nT23-cpdoAJP",
        "outputId": "69754a75-f3b2-4ae2-aa26-93acacbabebd"
      },
      "execution_count": null,
      "outputs": [
        {
          "output_type": "stream",
          "name": "stdout",
          "text": [
            "Hello, Aayush here\n",
            "myself Aayush Gupta\n",
            "I am an engineering student\n",
            "This is a new line of text.\n",
            "\n"
          ]
        }
      ]
    },
    {
      "cell_type": "markdown",
      "source": [
        "14. Write a program that uses the logging module to log both informational and error messages."
      ],
      "metadata": {
        "id": "Ex4Pqrr1oUJ5"
      }
    },
    {
      "cell_type": "code",
      "source": [
        "import logging\n",
        "\n",
        "logging.basicConfig(filename='app.log', level=logging.DEBUG, format='%(asctime)s - %(levelname)s - %(message)s')\n",
        "\n",
        "try:\n",
        "    x = 10\n",
        "    y = 0\n",
        "    result = x / y\n",
        "    logging.info(f\"Division result: {result}\")\n",
        "\n",
        "except ZeroDivisionError:\n",
        "    logging.error(\"Division by zero attempted.\")\n"
      ],
      "metadata": {
        "colab": {
          "base_uri": "https://localhost:8080/"
        },
        "id": "iwoCj3JkojiQ",
        "outputId": "7e558b63-7c36-4c68-b27b-b2f493e9ebbc"
      },
      "execution_count": null,
      "outputs": [
        {
          "output_type": "stream",
          "name": "stderr",
          "text": [
            "ERROR:root:Division by zero attempted.\n"
          ]
        }
      ]
    },
    {
      "cell_type": "markdown",
      "source": [
        "15. Write a Python program that prints the content of a file and handles the case when the file is empty."
      ],
      "metadata": {
        "id": "3COebCmPq5Wm"
      }
    },
    {
      "cell_type": "code",
      "source": [
        "def read_file(filename):\n",
        "  try:\n",
        "    with open(filename, 'r') as file:\n",
        "            content = file.read()\n",
        "\n",
        "            if not content.strip():  # Check if file is empty or only whitespace\n",
        "                print(f\"The file '{filename}' is empty.\")\n",
        "            else:\n",
        "                print(\"File contents:\")\n",
        "                print(content)\n",
        "\n",
        "  except FileNotFoundError:\n",
        "    print(f\"Error: The file '{filename}' does not exist.\")\n",
        "read_file('example.txt')"
      ],
      "metadata": {
        "colab": {
          "base_uri": "https://localhost:8080/"
        },
        "id": "1ywx66gEr0bV",
        "outputId": "0a9861f2-c498-47ae-cd72-0c94c9a67abf"
      },
      "execution_count": null,
      "outputs": [
        {
          "output_type": "stream",
          "name": "stdout",
          "text": [
            "File contents:\n",
            "Hello, Aayush here\n",
            "myself Aayush Gupta\n",
            "I am an engineering student\n",
            "This is a new line of text.\n",
            "\n"
          ]
        }
      ]
    },
    {
      "cell_type": "markdown",
      "source": [
        "16. Demonstrate how to use memory profiling to check the memory usage of a small program."
      ],
      "metadata": {
        "id": "3nFvdSxcsw2I"
      }
    },
    {
      "cell_type": "markdown",
      "source": [
        "17. Write a Python program to create and write a list of numbers to a file, one number per line."
      ],
      "metadata": {
        "id": "gRyKi8RrAdUa"
      }
    },
    {
      "cell_type": "code",
      "source": [
        "numbers = [10, 20, 30, 40, 50]\n",
        "filename = 'numbers.txt'\n",
        "\n",
        "with open(filename, 'w') as file:\n",
        "    for number in numbers:\n",
        "        file.write(f\"{number}\\n\")\n",
        "\n"
      ],
      "metadata": {
        "id": "NHEgK3AzAh0Y"
      },
      "execution_count": null,
      "outputs": []
    },
    {
      "cell_type": "markdown",
      "source": [
        "18. How would you implement a basic logging setup that logs to a file with rotation after 1MB?"
      ],
      "metadata": {
        "id": "5ZlkQO2BBTpl"
      }
    },
    {
      "cell_type": "code",
      "source": [
        "import logging\n",
        "from logging.handlers import RotatingFileHandler\n",
        "\n",
        "# Set up the rotating file handler\n",
        "log_handler = RotatingFileHandler(filename='example.log', maxBytes=1 * 1024 * 1024, backupCount=5)\n",
        "\n",
        "# Set log format\n",
        "formatter = logging.Formatter('%(asctime)s - %(levelname)s - %(message)s')\n",
        "log_handler.setFormatter(formatter)\n",
        "\n",
        "# Set up the logger\n",
        "logger = logging.getLogger('my_logger')\n",
        "logger.setLevel(logging.INFO)\n",
        "logger.addHandler(log_handler)\n",
        "\n",
        "logger.info(\"This is a test log message.\")"
      ],
      "metadata": {
        "id": "XXDQTqlOBdbI",
        "colab": {
          "base_uri": "https://localhost:8080/"
        },
        "outputId": "efe7e41a-d90c-40a8-a4eb-df6c473ce68c"
      },
      "execution_count": 10,
      "outputs": [
        {
          "output_type": "stream",
          "name": "stderr",
          "text": [
            "INFO:my_logger:This is a test log message.\n"
          ]
        }
      ]
    },
    {
      "cell_type": "markdown",
      "source": [
        "19. Write a program that handles both IndexError and KeyError using a try-except block."
      ],
      "metadata": {
        "id": "y7m00CGhBonK"
      }
    },
    {
      "cell_type": "code",
      "source": [
        "\n",
        "    my_list = [1, 2, 3]\n",
        "    my_dict = {'a': 10, 'b': 20}\n",
        "\n",
        "    try:\n",
        "        # This will raise IndexError\n",
        "        print(\"Accessing list element at index 5:\", my_list[5])\n",
        "\n",
        "        # This will raise KeyError\n",
        "        print(\"Accessing value with key 'z':\", my_dict['z'])\n",
        "\n",
        "    except IndexError as ie:\n",
        "        print(\"Caught an IndexError:\", ie)\n",
        "\n",
        "    except KeyError as ke:\n",
        "        print(\"Caught a KeyError:\", ke)\n",
        "\n"
      ],
      "metadata": {
        "colab": {
          "base_uri": "https://localhost:8080/"
        },
        "id": "UWK5C2NXBuoy",
        "outputId": "26027a92-c356-4c9d-8d64-89d98cb9b374"
      },
      "execution_count": 13,
      "outputs": [
        {
          "output_type": "stream",
          "name": "stdout",
          "text": [
            "Caught an IndexError: list index out of range\n"
          ]
        }
      ]
    },
    {
      "cell_type": "markdown",
      "source": [
        "20. How would you open a file and read its contents using a context manager in Python?"
      ],
      "metadata": {
        "id": "HNBX1hCgCq3I"
      }
    },
    {
      "cell_type": "code",
      "source": [
        "with open('example.txt', 'r') as file:\n",
        "    contents = file.read()\n",
        "\n",
        "print(contents)"
      ],
      "metadata": {
        "colab": {
          "base_uri": "https://localhost:8080/"
        },
        "id": "24N0tqctCxHX",
        "outputId": "8688dbd1-46c4-455c-daa1-3932a9d7bd48"
      },
      "execution_count": null,
      "outputs": [
        {
          "output_type": "stream",
          "name": "stdout",
          "text": [
            "Hello, Aayush here\n",
            "myself Aayush Gupta\n",
            "I am an engineering student\n",
            "\n"
          ]
        }
      ]
    },
    {
      "cell_type": "markdown",
      "source": [
        "21. Write a Python program that reads a file and prints the number of occurrences of a specific word."
      ],
      "metadata": {
        "id": "NEMGnkHqC_V0"
      }
    },
    {
      "cell_type": "code",
      "source": [
        "def count_word_in_file(file_path, word):\n",
        "    try:\n",
        "        with open(file_path, 'r', encoding='utf-8') as file:\n",
        "            contents = file.read().lower()\n",
        "            word_count = contents.split().count(word.lower())\n",
        "            print(f\"The word '{word}' occurs {word_count} times in the file.\")\n",
        "    except FileNotFoundError:\n",
        "        print(f\"Error: The file '{file_path}' was not found.\")\n",
        "    except Exception as e:\n",
        "        print(f\"An error occurred: {e}\")\n",
        "\n",
        "count_word_in_file('example.txt' , 'Aayush'  )"
      ],
      "metadata": {
        "id": "BKRlJHJTDEcy",
        "colab": {
          "base_uri": "https://localhost:8080/"
        },
        "outputId": "246b527c-e217-4587-fb05-9f516e06bd58"
      },
      "execution_count": 7,
      "outputs": [
        {
          "output_type": "stream",
          "name": "stdout",
          "text": [
            "The word 'Aayush' occurs 2 times in the file.\n"
          ]
        }
      ]
    },
    {
      "cell_type": "markdown",
      "source": [
        "22. How can you check if a file is empty before attempting to read its contents?"
      ],
      "metadata": {
        "id": "w83YO10b1-aU"
      }
    },
    {
      "cell_type": "code",
      "source": [
        "import os\n",
        "\n",
        "file_path = \"example.txt\"\n",
        "\n",
        "if os.path.getsize(file_path) == 0:\n",
        "    print(\"File is empty.\")\n",
        "else:\n",
        "    print(\"File is not empty.\")"
      ],
      "metadata": {
        "colab": {
          "base_uri": "https://localhost:8080/"
        },
        "id": "f2sr5wqc2FOz",
        "outputId": "4ce48bf5-8afb-4a26-d7c1-a0308706c1a9"
      },
      "execution_count": 6,
      "outputs": [
        {
          "output_type": "stream",
          "name": "stdout",
          "text": [
            "File is not empty.\n"
          ]
        }
      ]
    },
    {
      "cell_type": "markdown",
      "source": [
        "23. Write a Python program that writes to a log file when an error occurs during file handling."
      ],
      "metadata": {
        "id": "jzgmQFKOBoXk"
      }
    },
    {
      "cell_type": "code",
      "source": [
        "import logging\n",
        "\n",
        "logging.basicConfig(\n",
        "    filename='error_log.txt', level=logging.ERROR, format='%(asctime)s - %(levelname)s - %(message)s')\n",
        "\n",
        "def read_file(file_path):\n",
        "    try:\n",
        "        with open(file_path, 'r') as f:\n",
        "            contents = f.read()\n",
        "            print(contents)\n",
        "    except FileNotFoundError:\n",
        "        logging.error(f\"File not found: {file_path}\")\n",
        "        print(\"Error: The file does not exist.\")\n",
        "    except Exception as e:\n",
        "        logging.error(f\"Unexpected error with file '{file_path}': {e}\")\n",
        "        print(f\"An unexpected error occurred: {e}\")\n",
        "\n",
        "read_file(\"program.txt\")"
      ],
      "metadata": {
        "colab": {
          "base_uri": "https://localhost:8080/"
        },
        "id": "4Dq84J1H2GVH",
        "outputId": "72741bff-1141-48cd-be65-effb3372b3d3"
      },
      "execution_count": 5,
      "outputs": [
        {
          "output_type": "stream",
          "name": "stderr",
          "text": [
            "ERROR:root:File not found: program.txt\n"
          ]
        },
        {
          "output_type": "stream",
          "name": "stdout",
          "text": [
            "Error: The file does not exist.\n"
          ]
        }
      ]
    }
  ]
}