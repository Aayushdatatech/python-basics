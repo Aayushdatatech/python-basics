{
  "nbformat": 4,
  "nbformat_minor": 0,
  "metadata": {
    "colab": {
      "provenance": []
    },
    "kernelspec": {
      "name": "python3",
      "display_name": "Python 3"
    },
    "language_info": {
      "name": "python"
    }
  },
  "cells": [
    {
      "cell_type": "markdown",
      "source": [
        "# data type and structures theory questions"
      ],
      "metadata": {
        "id": "SusSInB_T5UN"
      }
    },
    {
      "cell_type": "markdown",
      "source": [
        "1. What are data structures, and why are they important?\n",
        "  -> Data structures in Python are specialized formats or containers used to store and organize data efficiently. And they are important because they provide various ways to store, access, and manipulate data according to specific needs."
      ],
      "metadata": {
        "id": "gZtsmAfpUAut"
      }
    },
    {
      "cell_type": "markdown",
      "source": [
        "2.  Explain the difference between mutable and immutable data types with examples.\n",
        "  -> mutable data type are those that can be changed in place after creation. EXamples are list, set, dictionary.\n",
        "  Immutable data types are those that cannot be changed after creation. Examples are tuple, string."
      ],
      "metadata": {
        "id": "ytB92IozVedl"
      }
    },
    {
      "cell_type": "markdown",
      "source": [
        "3. What are the main differences between lists and tuples in Python?\n",
        "-> lists are mutable, written in square bracket but tuples are immutable and written in parentheses."
      ],
      "metadata": {
        "id": "w__97VhaVh6_"
      }
    },
    {
      "cell_type": "markdown",
      "source": [
        "4. Describe how dictionaries store data.\n",
        "  -> Dictionaries store data using a key-value pair structure. Key:value\n",
        "  example {\"name\":\"Aayush\", \"Age\":21}"
      ],
      "metadata": {
        "id": "9CR4Vi9IiVRn"
      }
    },
    {
      "cell_type": "markdown",
      "source": [
        "5. Why might you use a set instead of a list in Python?\n",
        "  -> Sets are unordered collections of unique elements. They are useful over list when you need to work with distinct items because list allow duplicate items and sets perform set operations like union, intersection, and difference."
      ],
      "metadata": {
        "id": "s3kErakakuuu"
      }
    },
    {
      "cell_type": "markdown",
      "source": [
        "6. What is a string in Python, and how is it different from a list?\n",
        "  -> A string is an immutable sequence of Unicode characters. Each character in the string can be accessed using an index. A list is a mutable sequence of any Python objects. Lists can contain mixed data types"
      ],
      "metadata": {
        "id": "JHYvx-nqmvox"
      }
    },
    {
      "cell_type": "markdown",
      "source": [
        "7. How do tuples ensure data integrity in Python.\n",
        "  -> In Python, tuples ensure data integrity through their immutability nature. This makes them a great choice when we want to protect our data from being changed accidentally or intentionally. Once a tuple is created, its contents cannot be modified no adding, removing, or changing items.\n",
        "\n"
      ],
      "metadata": {
        "id": "hhTE4mV5pBJP"
      }
    },
    {
      "cell_type": "markdown",
      "source": [
        "8. What is a hash table, and how does it relate to dictionaries in Python?\n",
        "  -> A hash table is a data structure that stores key-value pairs and allows for fast data retrieval based on keys. It uses a hash function to compute an index from the key, which determines where the associated value is stored in memory.\n",
        "\n",
        ""
      ],
      "metadata": {
        "id": "Oryz0-JLqWWP"
      }
    },
    {
      "cell_type": "markdown",
      "source": [
        "9. Can lists contain different data types in Python?\n",
        "  -> Yes, lists in Python can contain different data types. Python lists are heterogeneous."
      ],
      "metadata": {
        "id": "TR-K_QUntVEd"
      }
    },
    {
      "cell_type": "markdown",
      "source": [
        "10. Explain why strings are immutable in Python.\n",
        "  -> Once a string is created, it cannot be changed. This decision brings several important benefits related to performance, security, and reliability."
      ],
      "metadata": {
        "id": "jeGhJYoot3cm"
      }
    },
    {
      "cell_type": "markdown",
      "source": [
        "11. What advantages do dictionaries offer over lists for certain tasks?\n",
        "  -> Dictionaries offer significant advantages over lists when tasks involve key-based access, fast lookups, and data relationships. With lists,we must remember what each index means. with dictionaries, we just use meaningful keys."
      ],
      "metadata": {
        "id": "beoHhBP7xPZe"
      }
    },
    {
      "cell_type": "markdown",
      "source": [
        "12. Describe a scenario where using a tuple would be preferable over a list.\n",
        "  -> Using a tuple is preferable over a list when need a fixed, unchangeable group of values that should not be modified. example is data base records."
      ],
      "metadata": {
        "id": "jDctQsxZyVMl"
      }
    },
    {
      "cell_type": "markdown",
      "source": [
        "13. How do sets handle duplicate values in Python?\n",
        "  -> In Python, sets automatically remove and prevent duplicate values. Sets store only unique elements."
      ],
      "metadata": {
        "id": "Tw3raoYK2fY0"
      }
    },
    {
      "cell_type": "markdown",
      "source": [
        "14. How does the “in” keyword work differently for lists and dictionaries?\n",
        "  -> \"in\" a membership keyword. In lists it checks whether a value exists in the list, and in dictionaries it checks Whether a key exists in the dictionary, it does not check for values unless we explicitly do so."
      ],
      "metadata": {
        "id": "f3DUFXXn3GSX"
      }
    },
    {
      "cell_type": "markdown",
      "source": [
        "15. Can you modify the elements of a tuple? Explain why or why not.\n",
        "  -> No, we cannot modify the elements of a tuple in Python. A tuple is immutable, once it is created, cannot change, add, or remove any of its elements. Attempting to do so will result in an error.\n",
        ""
      ],
      "metadata": {
        "id": "0-kOKnwZ7ml6"
      }
    },
    {
      "cell_type": "markdown",
      "source": [
        "16. What is a nested dictionary, and give an example of its use case.\n",
        "  -> A nested dictionary is a dictionary that contains another dictionary. Example is a class data in school. school = {\"Section A\": {\"Class teacher\": \"Ms Rupali\", \"students\": 25},\n",
        "    \"Section B\": {\"class teacher\": \"Mr. ashok\", \"students\": 30}\n",
        "  }"
      ],
      "metadata": {
        "id": "n0gBGq6W8LSH"
      }
    },
    {
      "cell_type": "markdown",
      "source": [
        "17. Describe the time complexity of accessing elements in a dictionary.\n",
        "  -> Dictionaries are implemented using hash tables, which makes key-based access very fast. Accessing an element with my_dict[key] typically takes constant time, regardless of the size of the dictionary."
      ],
      "metadata": {
        "id": "Yv8xx9cW-Zu3"
      }
    },
    {
      "cell_type": "markdown",
      "source": [
        "18. In what situations are lists preferred over dictionaries?\n",
        "  -> Lists are preferred over dictionaries in following situations. Lists maintain the order of elements by default (insertion order), useful when the sequence of items is important. Lists allow direct access by index, perfect when the position of elements is meaningful. Lists allow duplicates, which is essential when repeated data is valid."
      ],
      "metadata": {
        "id": "UT9jCsNDBb5y"
      }
    },
    {
      "cell_type": "markdown",
      "source": [
        "19. Why are dictionaries considered unordered, and how does that affect data retrieval?\n",
        "   -> Dictionaries in Python are considered unordered because the insertion order of keys are not guaranteed. Data is accessed—via keys, not position.\n",
        "   Iteration over a dictionary potentially return keys in arbitrary order.\n",
        "\n"
      ],
      "metadata": {
        "id": "4c8tkJMnDrFW"
      }
    },
    {
      "cell_type": "markdown",
      "source": [
        "20.  Explain the difference between a list and a dictionary in terms of data retrieval.\n",
        "  -> The difference between a list and a dictionary in terms of data retrieval lies in how data is accessed: In list Items are accessed using integer indices, thus retrieval is position-based. And In dictionary items are accessed using unique keys and thus retrieval is key-based.\n",
        "\n"
      ],
      "metadata": {
        "id": "AvIycT2AF1zt"
      }
    },
    {
      "cell_type": "markdown",
      "source": [
        "# Data type and structure practical questions\n"
      ],
      "metadata": {
        "id": "oGVC-Fk8J8JG"
      }
    },
    {
      "cell_type": "markdown",
      "source": [
        "1.Write a code to create a string with your name and print it."
      ],
      "metadata": {
        "id": "aEFjcP40KSyZ"
      }
    },
    {
      "cell_type": "code",
      "source": [
        "name=\"Aayush\"\n",
        "print(name)"
      ],
      "metadata": {
        "colab": {
          "base_uri": "https://localhost:8080/"
        },
        "id": "xV1N5l8aYVVF",
        "outputId": "356992f1-64cd-4270-8eef-55b720beaa62"
      },
      "execution_count": 12,
      "outputs": [
        {
          "output_type": "stream",
          "name": "stdout",
          "text": [
            "Aayush\n"
          ]
        }
      ]
    },
    {
      "cell_type": "markdown",
      "source": [
        "2. Write a code to find the length of the string \"Hello World\"."
      ],
      "metadata": {
        "id": "ee2vuykfY8S5"
      }
    },
    {
      "cell_type": "code",
      "source": [
        "len(\"Hello World\")"
      ],
      "metadata": {
        "colab": {
          "base_uri": "https://localhost:8080/"
        },
        "id": "-HNRsZuAZIpC",
        "outputId": "48740615-5345-4509-cf8a-92a9acfed833"
      },
      "execution_count": 13,
      "outputs": [
        {
          "output_type": "execute_result",
          "data": {
            "text/plain": [
              "11"
            ]
          },
          "metadata": {},
          "execution_count": 13
        }
      ]
    },
    {
      "cell_type": "markdown",
      "source": [],
      "metadata": {
        "id": "q8r-o46ftS4B"
      }
    },
    {
      "cell_type": "markdown",
      "source": [
        "3. Write a code to slice the first 3 characters from the string \"Python Programming.\""
      ],
      "metadata": {
        "id": "9pueYzEmZR73"
      }
    },
    {
      "cell_type": "code",
      "source": [
        "program=\"Python Programming\"\n",
        "program[0:3]"
      ],
      "metadata": {
        "colab": {
          "base_uri": "https://localhost:8080/",
          "height": 35
        },
        "id": "58pRpCsdZd5k",
        "outputId": "8a461605-7ede-45cc-9a8d-db2d51ff17e5"
      },
      "execution_count": 14,
      "outputs": [
        {
          "output_type": "execute_result",
          "data": {
            "text/plain": [
              "'Pyt'"
            ],
            "application/vnd.google.colaboratory.intrinsic+json": {
              "type": "string"
            }
          },
          "metadata": {},
          "execution_count": 14
        }
      ]
    },
    {
      "cell_type": "markdown",
      "source": [
        "4. Write a code to convert the string \"hello\" to uppercase."
      ],
      "metadata": {
        "id": "pDs74T4maHiN"
      }
    },
    {
      "cell_type": "code",
      "source": [
        "\"hello\".upper()"
      ],
      "metadata": {
        "colab": {
          "base_uri": "https://localhost:8080/",
          "height": 35
        },
        "id": "vvvkjGdbaN0h",
        "outputId": "55f2d1a8-a418-4fd2-c6f3-5526842b746b"
      },
      "execution_count": 15,
      "outputs": [
        {
          "output_type": "execute_result",
          "data": {
            "text/plain": [
              "'HELLO'"
            ],
            "application/vnd.google.colaboratory.intrinsic+json": {
              "type": "string"
            }
          },
          "metadata": {},
          "execution_count": 15
        }
      ]
    },
    {
      "cell_type": "markdown",
      "source": [
        "5.Write a code to replace the word \"apple\" with \"orange\" in the string \"I like apple\"."
      ],
      "metadata": {
        "id": "dQbfG1lcadqT"
      }
    },
    {
      "cell_type": "code",
      "source": [
        "word=\"I like apple\"\n",
        "word.replace(\"apple\",\"orange\")"
      ],
      "metadata": {
        "colab": {
          "base_uri": "https://localhost:8080/",
          "height": 35
        },
        "id": "rCpgAWlKao-T",
        "outputId": "076573b0-cc0c-4e26-87ef-2d1d3568d83d"
      },
      "execution_count": 17,
      "outputs": [
        {
          "output_type": "execute_result",
          "data": {
            "text/plain": [
              "'I like orange'"
            ],
            "application/vnd.google.colaboratory.intrinsic+json": {
              "type": "string"
            }
          },
          "metadata": {},
          "execution_count": 17
        }
      ]
    },
    {
      "cell_type": "markdown",
      "source": [
        "6. Write a code to create a list with numbers 1 to 5 and print it."
      ],
      "metadata": {
        "id": "ELuwMW-Vadm4"
      }
    },
    {
      "cell_type": "code",
      "source": [
        "list(range(1,6))"
      ],
      "metadata": {
        "colab": {
          "base_uri": "https://localhost:8080/"
        },
        "id": "v1w66Rvqatb6",
        "outputId": "63535e86-8e47-4a80-a980-680899e889cf"
      },
      "execution_count": 18,
      "outputs": [
        {
          "output_type": "execute_result",
          "data": {
            "text/plain": [
              "[1, 2, 3, 4, 5]"
            ]
          },
          "metadata": {},
          "execution_count": 18
        }
      ]
    },
    {
      "cell_type": "markdown",
      "source": [
        "7. Write a code to append the number 10 to the list [1, 2, 3, 4].\n"
      ],
      "metadata": {
        "id": "xj6w4f0Lbegw"
      }
    },
    {
      "cell_type": "code",
      "source": [
        "list=[1,2,3,4]\n",
        "list.append(10)\n",
        "print(list)"
      ],
      "metadata": {
        "colab": {
          "base_uri": "https://localhost:8080/"
        },
        "id": "etWNVUt9bxk_",
        "outputId": "e2d56a46-a7d1-49d4-af1b-bec79ccf69f7"
      },
      "execution_count": 19,
      "outputs": [
        {
          "output_type": "stream",
          "name": "stdout",
          "text": [
            "[1, 2, 3, 4, 10]\n"
          ]
        }
      ]
    },
    {
      "cell_type": "markdown",
      "source": [
        "8. Write a code to remove the number 3 from the list [1, 2, 3, 4, 5]."
      ],
      "metadata": {
        "id": "qp2vC0J2cB6K"
      }
    },
    {
      "cell_type": "code",
      "source": [
        "list=[1,2,3,4,5]\n",
        "list.remove(3)\n",
        "print(list)"
      ],
      "metadata": {
        "colab": {
          "base_uri": "https://localhost:8080/"
        },
        "id": "oo-3U6NJcRK2",
        "outputId": "9d70fc02-ca25-464d-cffe-07cbbb22d2d8"
      },
      "execution_count": 20,
      "outputs": [
        {
          "output_type": "stream",
          "name": "stdout",
          "text": [
            "[1, 2, 4, 5]\n"
          ]
        }
      ]
    },
    {
      "cell_type": "markdown",
      "source": [
        "9. Write a code to access the second element in the list ['a', 'b', 'c', 'd']"
      ],
      "metadata": {
        "id": "8SLcMrJRcg_p"
      }
    },
    {
      "cell_type": "code",
      "source": [
        "list=['a','b','c','d']\n",
        "second_element=list[1]\n",
        "print(second_element)"
      ],
      "metadata": {
        "colab": {
          "base_uri": "https://localhost:8080/"
        },
        "id": "v7nPPmokcmO0",
        "outputId": "c2e9e6ec-7051-4772-a3eb-b09cdc53776d"
      },
      "execution_count": 21,
      "outputs": [
        {
          "output_type": "stream",
          "name": "stdout",
          "text": [
            "b\n"
          ]
        }
      ]
    },
    {
      "cell_type": "markdown",
      "source": [
        "10. Write a code to reverse the list [10, 20, 30, 40, 50]."
      ],
      "metadata": {
        "id": "pwh8f9IRdFhy"
      }
    },
    {
      "cell_type": "code",
      "source": [
        "list=[10,20,30,40,50]\n",
        "list[::-1]\n"
      ],
      "metadata": {
        "colab": {
          "base_uri": "https://localhost:8080/"
        },
        "id": "ljnWiA9Pdb6s",
        "outputId": "7e12964e-4b7f-434d-a8fa-eb5e83bc013f"
      },
      "execution_count": 22,
      "outputs": [
        {
          "output_type": "execute_result",
          "data": {
            "text/plain": [
              "[50, 40, 30, 20, 10]"
            ]
          },
          "metadata": {},
          "execution_count": 22
        }
      ]
    },
    {
      "cell_type": "markdown",
      "source": [
        "11. Write a code to create a tuple with the elements 100, 200, 300 and print it."
      ],
      "metadata": {
        "id": "x6TqWI-SduXu"
      }
    },
    {
      "cell_type": "code",
      "source": [
        "tup=(100,200,300)\n",
        "print(tup)"
      ],
      "metadata": {
        "colab": {
          "base_uri": "https://localhost:8080/"
        },
        "id": "lQQSRH4AfaMo",
        "outputId": "cc68281f-8f5d-4256-da0e-188d511c2d4d"
      },
      "execution_count": 31,
      "outputs": [
        {
          "output_type": "stream",
          "name": "stdout",
          "text": [
            "(100, 200, 300)\n"
          ]
        }
      ]
    },
    {
      "cell_type": "markdown",
      "source": [
        "12. Write a code to access the second-to-last element of the tuple ('red', 'green', 'blue', 'yellow')"
      ],
      "metadata": {
        "id": "AhENlQAIi2iw"
      }
    },
    {
      "cell_type": "code",
      "source": [
        "my_tuple=('red','green','blue','yellow')\n",
        "my_tuple[1:]"
      ],
      "metadata": {
        "colab": {
          "base_uri": "https://localhost:8080/"
        },
        "id": "AttGLKgGjEez",
        "outputId": "95019ef8-c94a-4111-b2bc-49cf3a36d5f6"
      },
      "execution_count": 33,
      "outputs": [
        {
          "output_type": "execute_result",
          "data": {
            "text/plain": [
              "('green', 'blue', 'yellow')"
            ]
          },
          "metadata": {},
          "execution_count": 33
        }
      ]
    },
    {
      "cell_type": "markdown",
      "source": [
        "13. Write a code to find the minimum number in the tuple (10, 20, 5, 15)."
      ],
      "metadata": {
        "id": "DtEGVjZDjkG-"
      }
    },
    {
      "cell_type": "code",
      "source": [
        "my_tup=(10,20,5,15)\n",
        "min(my_tup)"
      ],
      "metadata": {
        "colab": {
          "base_uri": "https://localhost:8080/"
        },
        "id": "5w05k1BakKpO",
        "outputId": "c4f2cd80-5a12-436d-8778-b7ffedcc6a91"
      },
      "execution_count": 34,
      "outputs": [
        {
          "output_type": "execute_result",
          "data": {
            "text/plain": [
              "5"
            ]
          },
          "metadata": {},
          "execution_count": 34
        }
      ]
    },
    {
      "cell_type": "markdown",
      "source": [
        "14.  Write a code to find the index of the element \"cat\" in the tuple ('dog', 'cat', 'rabbit')."
      ],
      "metadata": {
        "id": "3flbfa5UkPA8"
      }
    },
    {
      "cell_type": "code",
      "source": [
        "m_tuple=('dog','cat','rabbit')\n",
        "m_tuple.index('cat')"
      ],
      "metadata": {
        "colab": {
          "base_uri": "https://localhost:8080/"
        },
        "id": "BtQFbTbYkXjF",
        "outputId": "ecf29737-7856-4090-a9bd-1ce079198ee8"
      },
      "execution_count": 35,
      "outputs": [
        {
          "output_type": "execute_result",
          "data": {
            "text/plain": [
              "1"
            ]
          },
          "metadata": {},
          "execution_count": 35
        }
      ]
    },
    {
      "cell_type": "markdown",
      "source": [
        "15.  Write a code to create a tuple containing three different fruits and check if \"kiwi\" is in it."
      ],
      "metadata": {
        "id": "ghSoiQsIkobq"
      }
    },
    {
      "cell_type": "code",
      "source": [
        "mytuple=(\"apple\",\"banana\",\"kiwi\")\n",
        "\"kiwi\" in mytuple"
      ],
      "metadata": {
        "colab": {
          "base_uri": "https://localhost:8080/"
        },
        "id": "ZfcLGbwQktgw",
        "outputId": "a548d609-71e6-4753-a1aa-5d4c424128c9"
      },
      "execution_count": 36,
      "outputs": [
        {
          "output_type": "execute_result",
          "data": {
            "text/plain": [
              "True"
            ]
          },
          "metadata": {},
          "execution_count": 36
        }
      ]
    },
    {
      "cell_type": "markdown",
      "source": [],
      "metadata": {
        "id": "PZKVbFHEkjTw"
      }
    },
    {
      "cell_type": "markdown",
      "source": [
        "16. Write a code to create a set with the elements 'a', 'b', 'c' and print it.\n"
      ],
      "metadata": {
        "id": "WC1DrQK8k9mj"
      }
    },
    {
      "cell_type": "code",
      "source": [
        "my_set={\"a\",\"b\",\"c\"}\n",
        "print(my_set)"
      ],
      "metadata": {
        "colab": {
          "base_uri": "https://localhost:8080/"
        },
        "id": "zYg0eHUgmYh3",
        "outputId": "38ab93a7-d30d-4fc2-c3ac-c0409df7ec8e"
      },
      "execution_count": 37,
      "outputs": [
        {
          "output_type": "stream",
          "name": "stdout",
          "text": [
            "{'a', 'b', 'c'}\n"
          ]
        }
      ]
    },
    {
      "cell_type": "markdown",
      "source": [
        "17.  Write a code to clear all elements from the set {1, 2, 3, 4, 5}."
      ],
      "metadata": {
        "id": "mxCKJWY-ml7d"
      }
    },
    {
      "cell_type": "code",
      "source": [
        "my_set={1,2,3,4,5}\n",
        "my_set.clear()\n",
        "print(my_set)"
      ],
      "metadata": {
        "colab": {
          "base_uri": "https://localhost:8080/"
        },
        "id": "EF_HzIWCmta_",
        "outputId": "249874af-f853-4afe-905b-7412732f9869"
      },
      "execution_count": 38,
      "outputs": [
        {
          "output_type": "stream",
          "name": "stdout",
          "text": [
            "set()\n"
          ]
        }
      ]
    },
    {
      "cell_type": "markdown",
      "source": [
        "18. Write a code to remove the element 4 from the set {1, 2, 3, 4}"
      ],
      "metadata": {
        "id": "x3_qAx_LmzeT"
      }
    },
    {
      "cell_type": "code",
      "source": [
        "my_set={1,2,3,4}\n",
        "my_set.remove(4)\n",
        "print(my_set)"
      ],
      "metadata": {
        "colab": {
          "base_uri": "https://localhost:8080/"
        },
        "id": "TeiVg5TTnHCH",
        "outputId": "5c145cdb-a129-4ffe-9fe5-12e389b7f732"
      },
      "execution_count": 39,
      "outputs": [
        {
          "output_type": "stream",
          "name": "stdout",
          "text": [
            "{1, 2, 3}\n"
          ]
        }
      ]
    },
    {
      "cell_type": "markdown",
      "source": [
        "19.  Write a code to find the union of two sets {1, 2, 3} and {3, 4, 5}."
      ],
      "metadata": {
        "id": "qU5Ec-uYnL5v"
      }
    },
    {
      "cell_type": "code",
      "source": [
        "set1={1,2,3}\n",
        "set2={3,4,5}\n",
        "set1|set2"
      ],
      "metadata": {
        "colab": {
          "base_uri": "https://localhost:8080/"
        },
        "id": "xhHruSWvnR4y",
        "outputId": "f389a976-acc9-4e1e-a710-38474c00d7cf"
      },
      "execution_count": 41,
      "outputs": [
        {
          "output_type": "execute_result",
          "data": {
            "text/plain": [
              "{1, 2, 3, 4, 5}"
            ]
          },
          "metadata": {},
          "execution_count": 41
        }
      ]
    },
    {
      "cell_type": "markdown",
      "source": [
        "20. Write a code to find the intersection of two sets {1, 2, 3} and {2, 3, 4}"
      ],
      "metadata": {
        "id": "1F_NskJynk-u"
      }
    },
    {
      "cell_type": "code",
      "source": [
        "set1={1,2,3}\n",
        "set2={2,3,4}\n",
        "set1&set2"
      ],
      "metadata": {
        "colab": {
          "base_uri": "https://localhost:8080/"
        },
        "id": "DogWdYoBnomw",
        "outputId": "271d184c-b9f2-4cd8-82fc-f564259ee9df"
      },
      "execution_count": 42,
      "outputs": [
        {
          "output_type": "execute_result",
          "data": {
            "text/plain": [
              "{2, 3}"
            ]
          },
          "metadata": {},
          "execution_count": 42
        }
      ]
    },
    {
      "cell_type": "markdown",
      "source": [
        "21.  Write a code to create a dictionary with the keys \"name\", \"age\", and \"city\", and print it."
      ],
      "metadata": {
        "id": "oxrCiMGAnzeZ"
      }
    },
    {
      "cell_type": "code",
      "source": [
        "my_dict= {\"name\":\"Aayush\", \"age\":21, \"city\":\"Jaipur\"}\n",
        "print(my_dict)"
      ],
      "metadata": {
        "colab": {
          "base_uri": "https://localhost:8080/"
        },
        "id": "yo2Yu3hvoJ4C",
        "outputId": "e999e3bf-d123-4ef6-ac98-d5fe8ee89bac"
      },
      "execution_count": 43,
      "outputs": [
        {
          "output_type": "stream",
          "name": "stdout",
          "text": [
            "{'name': 'Aayush', 'age': 21, 'city': 'Jaipur'}\n"
          ]
        }
      ]
    },
    {
      "cell_type": "markdown",
      "source": [
        "22. Write a code to add a new key-value pair \"country\": \"USA\" to the dictionary {'name': 'John', 'age': 25}."
      ],
      "metadata": {
        "id": "MSbthq7Doozn"
      }
    },
    {
      "cell_type": "code",
      "source": [
        "my_dict={'name': 'John', 'age': 25}\n",
        "my_dict[\"country\"]=\"USA\"\n",
        "print(my_dict)"
      ],
      "metadata": {
        "colab": {
          "base_uri": "https://localhost:8080/"
        },
        "id": "Zs32A3RMowmJ",
        "outputId": "523cb075-3eb9-4002-ddc7-0b651a581fba"
      },
      "execution_count": 44,
      "outputs": [
        {
          "output_type": "stream",
          "name": "stdout",
          "text": [
            "{'name': 'John', 'age': 25, 'country': 'USA'}\n"
          ]
        }
      ]
    },
    {
      "cell_type": "markdown",
      "source": [
        "23. Write a code to access the value associated with the key \"name\" in the dictionary {'name': 'Alice', 'age': 30}"
      ],
      "metadata": {
        "id": "xx7PL-v9o29j"
      }
    },
    {
      "cell_type": "code",
      "source": [
        "my_dict={'name': 'Alice', 'age': 30}\n",
        "my_dict[\"name\"]"
      ],
      "metadata": {
        "colab": {
          "base_uri": "https://localhost:8080/",
          "height": 35
        },
        "id": "MBN5Zqu6pJCV",
        "outputId": "9c4a56cc-22a3-4255-979b-db36e5481f19"
      },
      "execution_count": 45,
      "outputs": [
        {
          "output_type": "execute_result",
          "data": {
            "text/plain": [
              "'Alice'"
            ],
            "application/vnd.google.colaboratory.intrinsic+json": {
              "type": "string"
            }
          },
          "metadata": {},
          "execution_count": 45
        }
      ]
    },
    {
      "cell_type": "markdown",
      "source": [
        " 24. Write a code to remove the key \"age\" from the dictionary {'name': 'Bob', 'age': 22, 'city': 'New York'}."
      ],
      "metadata": {
        "id": "FhzZVh_ppZlG"
      }
    },
    {
      "cell_type": "code",
      "source": [
        "my_dict={'name': 'Bob', 'age': 22, 'city': 'New York'}\n",
        "my_dict.pop(\"age\")\n",
        "print(my_dict)\n"
      ],
      "metadata": {
        "colab": {
          "base_uri": "https://localhost:8080/"
        },
        "id": "P9TxbroWplfb",
        "outputId": "7e951817-7304-4cf7-c952-fe526faed3c9"
      },
      "execution_count": 49,
      "outputs": [
        {
          "output_type": "stream",
          "name": "stdout",
          "text": [
            "{'name': 'Bob', 'city': 'New York'}\n"
          ]
        }
      ]
    },
    {
      "cell_type": "markdown",
      "source": [
        "25.  Write a code to check if the key \"city\" exists in the dictionary {'name': 'Alice', 'city': 'Paris'}.\n"
      ],
      "metadata": {
        "id": "6WfUAbY0q6vO"
      }
    },
    {
      "cell_type": "code",
      "source": [
        "my_dict={'name':'Alice', 'city':'paris'}\n",
        "'city' in my_dict\n",
        ""
      ],
      "metadata": {
        "colab": {
          "base_uri": "https://localhost:8080/"
        },
        "id": "u1-H7L4GrAnt",
        "outputId": "f43375b3-4540-45d1-a658-7c745094d8e2"
      },
      "execution_count": 53,
      "outputs": [
        {
          "output_type": "execute_result",
          "data": {
            "text/plain": [
              "True"
            ]
          },
          "metadata": {},
          "execution_count": 53
        }
      ]
    },
    {
      "cell_type": "markdown",
      "source": [
        "26. Write a code to create a list, a tuple, and a dictionary, and print them all."
      ],
      "metadata": {
        "id": "nBrjlWHor0T7"
      }
    },
    {
      "cell_type": "code",
      "source": [
        "my_list = [10, 20, 30]\n",
        "my_tuple = (10, 20, 30)\n",
        "my_dict = {'a': 10, 'b': 20, 'c': 30}\n",
        "print(\"List:\", my_list)\n",
        "print(\"Tuple:\", my_tuple)\n",
        "print(\"Dictionary:\", my_dict)"
      ],
      "metadata": {
        "colab": {
          "base_uri": "https://localhost:8080/"
        },
        "id": "Rjv57YrTsAk4",
        "outputId": "9b2e9458-3eec-47b4-ce65-667300fd329a"
      },
      "execution_count": 54,
      "outputs": [
        {
          "output_type": "stream",
          "name": "stdout",
          "text": [
            "List: [10, 20, 30]\n",
            "Tuple: (10, 20, 30)\n",
            "Dictionary: {'a': 10, 'b': 20, 'c': 30}\n"
          ]
        }
      ]
    },
    {
      "cell_type": "markdown",
      "source": [
        "27.  Write a code to create a list of 5 random numbers between 1 and 100, sort it in ascending order, and print the\n",
        "result.(replaced)"
      ],
      "metadata": {
        "id": "yxFCCyeZsl_Z"
      }
    },
    {
      "cell_type": "code",
      "source": [
        "import random\n",
        "random_number=[random.randint(1,100,) for i in range(5)]\n",
        "random_number.sort()\n",
        "print(random_number)\n"
      ],
      "metadata": {
        "colab": {
          "base_uri": "https://localhost:8080/"
        },
        "id": "dtOmJs7RtWFR",
        "outputId": "e8624a29-0cdc-4ecf-a030-4c24f09cbeec"
      },
      "execution_count": 71,
      "outputs": [
        {
          "output_type": "stream",
          "name": "stdout",
          "text": [
            "[9, 14, 29, 36, 89]\n"
          ]
        }
      ]
    },
    {
      "cell_type": "markdown",
      "source": [
        "28. Write a code to create a list with strings and print the element at the third index."
      ],
      "metadata": {
        "id": "yF6SFOwXtZ-P"
      }
    },
    {
      "cell_type": "code",
      "source": [
        "my_list=[\"str1\",\"str2\",\"str3\",\"str4\",\"str5\"]\n",
        "print(my_list[3 ])"
      ],
      "metadata": {
        "colab": {
          "base_uri": "https://localhost:8080/",
          "height": 35
        },
        "id": "SbtozFLetejt",
        "outputId": "f4ae1147-3607-41eb-c77d-b10aae31aa6c"
      },
      "execution_count": 56,
      "outputs": [
        {
          "output_type": "execute_result",
          "data": {
            "text/plain": [
              "'str4'"
            ],
            "application/vnd.google.colaboratory.intrinsic+json": {
              "type": "string"
            }
          },
          "metadata": {},
          "execution_count": 56
        }
      ]
    },
    {
      "cell_type": "markdown",
      "source": [
        "29. Write a code to combine two dictionaries into one and print the result."
      ],
      "metadata": {
        "id": "-4wemdcCyesZ"
      }
    },
    {
      "cell_type": "code",
      "source": [
        "dic1={\"a\":1,\"b\":2}\n",
        "dic2={\"c\":3,\"d\":4}\n",
        "dic1.update(dic2)\n",
        "print(dic1)"
      ],
      "metadata": {
        "colab": {
          "base_uri": "https://localhost:8080/"
        },
        "id": "_6-dZp_HyteZ",
        "outputId": "5c8e9771-1ca4-424f-9834-563100a468b6"
      },
      "execution_count": 57,
      "outputs": [
        {
          "output_type": "stream",
          "name": "stdout",
          "text": [
            "{'a': 1, 'b': 2, 'c': 3, 'd': 4}\n"
          ]
        }
      ]
    },
    {
      "cell_type": "markdown",
      "source": [
        "30. Write a code to convert a list of strings into a set."
      ],
      "metadata": {
        "id": "6QbBTjbl36DD"
      }
    },
    {
      "cell_type": "code",
      "source": [
        "my_list=['str1','str2','str3']\n",
        "my_set=set(my_list)\n",
        "print(my_set)"
      ],
      "metadata": {
        "colab": {
          "base_uri": "https://localhost:8080/"
        },
        "id": "qHLghKpL0aeT",
        "outputId": "f8ec4cd1-95ee-4ba1-9480-f9cdef0b3e15"
      },
      "execution_count": 59,
      "outputs": [
        {
          "output_type": "stream",
          "name": "stdout",
          "text": [
            "{'str1', 'str3', 'str2'}\n"
          ]
        }
      ]
    }
  ]
}