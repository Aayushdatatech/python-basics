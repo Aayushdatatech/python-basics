{
  "nbformat": 4,
  "nbformat_minor": 0,
  "metadata": {
    "colab": {
      "provenance": []
    },
    "kernelspec": {
      "name": "python3",
      "display_name": "Python 3"
    },
    "language_info": {
      "name": "python"
    }
  },
  "cells": [
    {
      "cell_type": "markdown",
      "source": [
        "#Functions theory questions"
      ],
      "metadata": {
        "id": "_jI7zCl6rr-I"
      }
    },
    {
      "cell_type": "markdown",
      "source": [
        "1. What is the difference between a function and a method in Python?\n"
      ],
      "metadata": {
        "id": "EpG_lst2r5XM"
      }
    },
    {
      "cell_type": "markdown",
      "source": [
        "2.  Explain the concept of function arguments and parameters in Python.\n",
        "  \n",
        "  => Parameters are the names listed in a function definition, they act as placeholders for the values the function will receive when it is called.\n",
        "  \n",
        "  Arguments are the actual values passed to a function when it is called, they replace the parameters during execution."
      ],
      "metadata": {
        "id": "Wy7lZ_BZs8-h"
      }
    },
    {
      "cell_type": "code",
      "execution_count": null,
      "metadata": {
        "id": "P0rRb5PfrlTw"
      },
      "outputs": [],
      "source": [
        "'''def greet(name, age):  name and age are parameters\n",
        "    print(\"your name and age are repectively\",name,\"and\",age)\n",
        "greet(\"Aayush\",21) \"Aayush\" and 21 are arguments'''"
      ]
    },
    {
      "cell_type": "markdown",
      "source": [
        "3. What are the different ways to define and call a function in Python?\n",
        "  =>\n",
        "  \n",
        "  #For define function\n",
        "    \n",
        "     (i)Standard function definition:- def greet(name): return f\"Hello, {name}!\"\n",
        "     \n",
        "     (ii)Lambda function:- add = lambda x, y: x + y\n",
        "     \n",
        "     (iii)Function with variable length argument:- *args for positional argument,**kwargs for keyword arguments\n",
        "    \n",
        "    #for calling function\n",
        "     \n",
        "     (i)Standard calling: greet(\"aayush\")\n",
        "    \n",
        "     (ii)calling lambda function:- add(5,3_)\n",
        "     \n",
        "     (iii)calling keyword and positional argument\n",
        "\n",
        "\n",
        "  "
      ],
      "metadata": {
        "id": "XQOzxBR9rrTJ"
      }
    },
    {
      "cell_type": "markdown",
      "source": [
        "4. What is the purpose of the `return` statement in a Python function?\n",
        "\n",
        "  => It immediately stops executing the function and exits it. It allows a function to output a value (or multiple values). If no return is specified, the function returns None by default.\n",
        "\n"
      ],
      "metadata": {
        "id": "T4MXwlTZso4T"
      }
    },
    {
      "cell_type": "markdown",
      "source": [
        "5. What are iterators in Python and how do they differ from iterables?\n",
        "  =>\n",
        "  \n",
        "  An iterable is any Python object capable of returning its members one at a time. You can loop over it using a for loop. Examples are: Lists, tuples, strings, sets, dictionaries.\n",
        "  \n",
        "  An iterator is an object that represents a stream of data; it remembers its state during iteration. Implements the iter() method (returns self). Implements the next() method (returns next item)"
      ],
      "metadata": {
        "id": "y9EAwJ_Dtsmo"
      }
    },
    {
      "cell_type": "markdown",
      "source": [
        "6.  Explain the concept of generators in Python and how they are defined.\n",
        "  \n",
        "  => A generator is a special type of iterator that generates values one at a   time as they are requested, using the yield keyword instead of return, it is memory efficient. This defines as,  def countdown(n): while n > 0: yield n n -= 1\n",
        "\n",
        "  It returns a generator object when called. Values are produced one-by-one each time you call next().\n"
      ],
      "metadata": {
        "id": "NEPRFO1tvq6L"
      }
    },
    {
      "cell_type": "markdown",
      "source": [
        "7. What are the advantages of using generators over regular functions?\n",
        "\n",
        "  => (i)Memory eficient:-Generators yield one item at a time and don’t store the entire sequence in memory, unlike regular functions.\n",
        "  \n",
        "  (ii)Lazy evaluation:-Generators compute values only when needed. This is useful for working with: Infinite sequences, data streams, reading large files line-by-line\n",
        "  \n",
        "\n"
      ],
      "metadata": {
        "id": "ZInlGDRR0tC6"
      }
    },
    {
      "cell_type": "markdown",
      "source": [
        "8. What is a lambda function in Python and when is it typically used?\n",
        "\n",
        "  => A lambda function in Python is a small, anonymous function defined using the lambda keyword. It's mainly used for short, throwaway functions where using a   full def block is removed.\n",
        "  \n",
        "  lambda arguments: expression\n",
        "\n",
        " It is used in Sorting with a custom key sorted(), mapping (transforming)map() a list,filtering a list filter(), reducing a list reduce()"
      ],
      "metadata": {
        "id": "bbEBoguf5jiA"
      }
    },
    {
      "cell_type": "markdown",
      "source": [
        "9.  Explain the purpose and usage of the `map()` function in Python.\n",
        "\n",
        "  => The map() function in Python is used to apply a function to each item in an iterable (like a list or tuple) and return a new iterator with the results.\n",
        " Avoid writing loops explicitly. Apply a transformation to all elements in a\n",
        " clean way.\n",
        "\n",
        " Its syntax is map(function, iterable).\n",
        "\n",
        "  Using with regular function, using with lambda function etc."
      ],
      "metadata": {
        "id": "9HRhDtlBtp_f"
      }
    },
    {
      "cell_type": "markdown",
      "source": [
        "10. What is the difference between `map()`, `reduce()`, and `filter()` functions in Python?\n",
        "\n",
        "  => 1. map(function, iterable):- Transforms each item in an iterable by applying a function and returns a new iterator with transformed elements.\n",
        "  2. filter(function, iterable):- Filters elements in an iterable by applying a function that returns True or False and returns iterator with items where the function returns True.\n",
        "  3. reduce(function, iterable):- It needs import from functools. Reduces the iterable to a single cumulative value by applying a function repeatedly to pairs of elements and returns a single value (not an iterator)."
      ],
      "metadata": {
        "id": "eKmQ9ox__kfy"
      }
    },
    {
      "cell_type": "markdown",
      "source": [
        "11.  Using pen & Paper write the internal mechanism for sum operation using  reduce function on this given\n",
        "list:[47,11,42,13]\n",
        "\n",
        "  => image uploaded in files in sample data with name functioncode.jpg"
      ],
      "metadata": {
        "id": "k6Y6ybB4lq4w"
      }
    },
    {
      "cell_type": "markdown",
      "source": [
        "# functions practical questions\n"
      ],
      "metadata": {
        "id": "_Dj73HXymfNo"
      }
    },
    {
      "cell_type": "markdown",
      "source": [
        "1. Write a Python function that takes a list of numbers as input and returns the sum of all even numbers in\n",
        "the list."
      ],
      "metadata": {
        "id": "ZYR8rAzbm_fG"
      }
    },
    {
      "cell_type": "code",
      "source": [
        "\n",
        "numbers= input(\"numbers:\")\n",
        "num_list=list(int(i) for i in numbers)\n",
        "even_numbers=filter(lambda x:x%2==0,num_list)\n",
        "print(sum(even_numbers))\n"
      ],
      "metadata": {
        "colab": {
          "base_uri": "https://localhost:8080/"
        },
        "id": "lCcthGmknOiv",
        "outputId": "48cad7bc-1653-43c3-95de-d285f1206576"
      },
      "execution_count": null,
      "outputs": [
        {
          "output_type": "stream",
          "name": "stdout",
          "text": [
            "numbers:2345\n",
            "6\n"
          ]
        }
      ]
    },
    {
      "cell_type": "markdown",
      "source": [
        "2. Create a Python function that accepts a string and returns the reverse of that string."
      ],
      "metadata": {
        "id": "lq9kQuVfrq-R"
      }
    },
    {
      "cell_type": "code",
      "source": [
        "def reverse_string():\n",
        "    user_input = input(\"Enter a string: \")\n",
        "    return user_input[::-1]\n",
        "reverse_string()"
      ],
      "metadata": {
        "colab": {
          "base_uri": "https://localhost:8080/",
          "height": 53
        },
        "id": "0xDzfl3baJcY",
        "outputId": "1c9a9a92-790e-4daa-91fe-1c435d5d198e"
      },
      "execution_count": null,
      "outputs": [
        {
          "name": "stdout",
          "output_type": "stream",
          "text": [
            "Enter a string: muskan\n"
          ]
        },
        {
          "output_type": "execute_result",
          "data": {
            "text/plain": [
              "'naksum'"
            ],
            "application/vnd.google.colaboratory.intrinsic+json": {
              "type": "string"
            }
          },
          "metadata": {},
          "execution_count": 17
        }
      ]
    },
    {
      "cell_type": "markdown",
      "source": [
        "3.  Implement a Python function that takes a list of integers and returns a new list containing the squares of\n",
        "each number."
      ],
      "metadata": {
        "id": "izZ9YLqIbRBn"
      }
    },
    {
      "cell_type": "code",
      "source": [
        "num_list=input(\"Enter a list of integers separated by spaces:\")\n",
        "int_list = list(map(int, num_list.split()))\n",
        "square_list=list(map(lambda x:x**2,int_list))\n",
        "print(square_list)"
      ],
      "metadata": {
        "colab": {
          "base_uri": "https://localhost:8080/"
        },
        "id": "h8s3sBVMco9h",
        "outputId": "321430fa-4b58-4f55-b506-a9daeb24340f"
      },
      "execution_count": null,
      "outputs": [
        {
          "output_type": "stream",
          "name": "stdout",
          "text": [
            "Enter a list of integers separated by spaces:1 2 3 4\n",
            "[1, 4, 9, 16]\n"
          ]
        }
      ]
    },
    {
      "cell_type": "markdown",
      "source": [
        "4. Write a Python function that checks if a given number is prime or not from 1 to 200."
      ],
      "metadata": {
        "id": "NlIdMlWpfWeS"
      }
    },
    {
      "cell_type": "code",
      "source": [
        "def num_prime():\n",
        "  a=int(input(\"Enter a number:\"))\n",
        "  if a <= 1:\n",
        "        return False\n",
        "  for i in range(2,int(a**(0.5)+1)):\n",
        "    if a%i==0:\n",
        "     return False\n",
        "  else:\n",
        "    return True\n",
        "num_prime()\n"
      ],
      "metadata": {
        "colab": {
          "base_uri": "https://localhost:8080/"
        },
        "id": "-4q_Rzo1faN4",
        "outputId": "392720f2-78ed-44cc-dfa1-501e8aba6a59"
      },
      "execution_count": null,
      "outputs": [
        {
          "name": "stdout",
          "output_type": "stream",
          "text": [
            "Enter a number:23\n"
          ]
        },
        {
          "output_type": "execute_result",
          "data": {
            "text/plain": [
              "True"
            ]
          },
          "metadata": {},
          "execution_count": 29
        }
      ]
    },
    {
      "cell_type": "markdown",
      "source": [
        "5. Create an iterator class in Python that generates the Fibonacci sequence up to a specified number of\n",
        "terms."
      ],
      "metadata": {
        "id": "V76TTLsm0Udk"
      }
    },
    {
      "cell_type": "code",
      "source": [
        "\n",
        "def fibonacci_seq(n):\n",
        "\n",
        "  a=0\n",
        "  b=1\n",
        "  for i in range(n):\n",
        "    yield a\n",
        "    a,b=b,a+b\n",
        "\n",
        "gen=fibonacci_seq(7)\n",
        "gen"
      ],
      "metadata": {
        "colab": {
          "base_uri": "https://localhost:8080/"
        },
        "id": "HVRdrnYo0tJF",
        "outputId": "72474b3b-0332-4597-ed2b-e0ad158b90db"
      },
      "execution_count": 4,
      "outputs": [
        {
          "output_type": "execute_result",
          "data": {
            "text/plain": [
              "<generator object fibonacci_seq at 0x7b4d3b18fd30>"
            ]
          },
          "metadata": {},
          "execution_count": 4
        }
      ]
    },
    {
      "cell_type": "code",
      "source": [
        "next(gen)\n"
      ],
      "metadata": {
        "colab": {
          "base_uri": "https://localhost:8080/"
        },
        "id": "Kya8sITu_nK5",
        "outputId": "fa99d5ec-4701-4b80-cfd9-e3e8e45c01ac"
      },
      "execution_count": 10,
      "outputs": [
        {
          "output_type": "execute_result",
          "data": {
            "text/plain": [
              "5"
            ]
          },
          "metadata": {},
          "execution_count": 10
        }
      ]
    },
    {
      "cell_type": "markdown",
      "source": [
        "6.  Write a generator function in Python that yields the powers of 2 up to a given exponent."
      ],
      "metadata": {
        "id": "Mdyv_MKLBG-W"
      }
    },
    {
      "cell_type": "code",
      "source": [
        "def power(n):\n",
        "  for i in range(n+1):\n",
        "    yield 2**i\n",
        "gen=power(4)\n",
        "gen"
      ],
      "metadata": {
        "colab": {
          "base_uri": "https://localhost:8080/"
        },
        "id": "4fOoXNAdMv4W",
        "outputId": "e6c9f3d8-a965-49fb-9a19-0a242f381b0d"
      },
      "execution_count": 11,
      "outputs": [
        {
          "output_type": "execute_result",
          "data": {
            "text/plain": [
              "<generator object power at 0x7b4d3b1caea0>"
            ]
          },
          "metadata": {},
          "execution_count": 11
        }
      ]
    },
    {
      "cell_type": "code",
      "source": [
        "next(gen)"
      ],
      "metadata": {
        "id": "L23-z_OLN5t2"
      },
      "execution_count": null,
      "outputs": []
    },
    {
      "cell_type": "markdown",
      "source": [
        "7.  Implement a generator function that reads a file line by line and yields each line as a string."
      ],
      "metadata": {
        "id": "3gh52zEkOLK1"
      }
    },
    {
      "cell_type": "code",
      "source": [
        "def file(*args)\n",
        "  for i in range()"
      ],
      "metadata": {
        "id": "GPbzSq4EOQ7V"
      },
      "execution_count": null,
      "outputs": []
    },
    {
      "cell_type": "markdown",
      "source": [
        "8. . Use a lambda function in Python to sort a list of tuples based on the second element of each tuple."
      ],
      "metadata": {
        "id": "yWj07muAPlQh"
      }
    },
    {
      "cell_type": "code",
      "source": [
        "list_tuple=[(2,3,4),(6,7,8),(4,5,8)]\n",
        "list_tuple.sort(key=lambda x: x[1])\n",
        "list_tuple"
      ],
      "metadata": {
        "colab": {
          "base_uri": "https://localhost:8080/"
        },
        "id": "nH5Q3SQwTTZr",
        "outputId": "bb8f9dec-2efc-4e7c-e163-f4c5540ac5c4"
      },
      "execution_count": 27,
      "outputs": [
        {
          "output_type": "execute_result",
          "data": {
            "text/plain": [
              "[(2, 3, 4), (4, 5, 8), (6, 7, 8)]"
            ]
          },
          "metadata": {},
          "execution_count": 27
        }
      ]
    },
    {
      "cell_type": "markdown",
      "source": [
        "9. Write a Python program that uses `map()` to convert a list of temperatures from Celsius to Fahrenheit."
      ],
      "metadata": {
        "id": "beZi0SyxVpbO"
      }
    },
    {
      "cell_type": "code",
      "source": [
        "celsius=[20,30,40]\n",
        "fahernheit=list(map(lambda x:(x*9/5)+32,celsius))\n",
        "fahernheit\n"
      ],
      "metadata": {
        "colab": {
          "base_uri": "https://localhost:8080/"
        },
        "id": "wC1iAmGYW3GE",
        "outputId": "422e1900-5b75-448c-86d3-99525fcf287b"
      },
      "execution_count": 32,
      "outputs": [
        {
          "output_type": "execute_result",
          "data": {
            "text/plain": [
              "[68.0, 86.0, 104.0]"
            ]
          },
          "metadata": {},
          "execution_count": 32
        }
      ]
    },
    {
      "cell_type": "markdown",
      "source": [
        "10. Create a Python program that uses `filter()` to remove all the vowels from a given string.\n"
      ],
      "metadata": {
        "id": "ZMJatBnLXsf9"
      }
    },
    {
      "cell_type": "code",
      "source": [],
      "metadata": {
        "id": "qbTVxolzbPH3"
      },
      "execution_count": null,
      "outputs": []
    },
    {
      "cell_type": "code",
      "source": [
        "from os import remove\n",
        "given_str=input(\"given string:\")\n",
        "remove_vowels=list(filter(lambda x:x not in ('a','e','i','o','u'), given_str ))\n",
        "print(remove_vowels)"
      ],
      "metadata": {
        "colab": {
          "base_uri": "https://localhost:8080/"
        },
        "id": "YgdZrfbzXyGD",
        "outputId": "2c0e4907-5e2f-4de8-c24b-9738690b5b12"
      },
      "execution_count": 41,
      "outputs": [
        {
          "output_type": "stream",
          "name": "stdout",
          "text": [
            "given string:aayush\n",
            "['y', 's', 'h']\n"
          ]
        }
      ]
    },
    {
      "cell_type": "markdown",
      "source": [
        "11.  Imagine an accounting routine used in a book shop. It works on a list with sublists, which look like this:\n",
        "\n",
        "\n",
        "\n",
        "\n",
        "\n",
        "\n",
        "\n",
        "Write a Python program, which returns a list with 2-tuples. Each tuple consists of the order number and the\n",
        "product of the price per item and the quantity. The product should be increased by 10,- € if the value of the\n",
        "order is smaller than 100,00 €.\n",
        "\n",
        "Write a Python program using lambda and map."
      ],
      "metadata": {
        "id": "XKst15qQeQyQ"
      }
    },
    {
      "cell_type": "code",
      "source": [
        "#format of list element [orderno.,book name,quantity,price per item]\n",
        "orders=[[34587,\"Learning python\",4,40.95],[98762,\"programming python\",5,56.80],[77226,\"Head First Python\",3,32.95],[88112,\"Einfurung in Python3\",3,24.99]]\n",
        "list_order=list(map(lambda x: (x[0],x[2]*x[3]+10 if x[2]*x[3]<100 else x[2]*x[3]),orders))\n",
        "print(list_order)"
      ],
      "metadata": {
        "colab": {
          "base_uri": "https://localhost:8080/"
        },
        "id": "FIrZZd2dwEpF",
        "outputId": "95cf0be0-cf73-41f0-f591-c22a90cbf913"
      },
      "execution_count": 6,
      "outputs": [
        {
          "output_type": "stream",
          "name": "stdout",
          "text": [
            "[(34587, 163.8), (98762, 284.0), (77226, 108.85000000000001), (88112, 84.97)]\n"
          ]
        }
      ]
    }
  ]
}